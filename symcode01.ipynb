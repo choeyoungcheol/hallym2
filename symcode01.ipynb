{
  "nbformat": 4,
  "nbformat_minor": 0,
  "metadata": {
    "colab": {
      "provenance": [],
      "authorship_tag": "ABX9TyPW627OpXmZPtLDaygYCQt9",
      "include_colab_link": true
    },
    "kernelspec": {
      "name": "python3",
      "display_name": "Python 3"
    },
    "language_info": {
      "name": "python"
    }
  },
  "cells": [
    {
      "cell_type": "markdown",
      "metadata": {
        "id": "view-in-github",
        "colab_type": "text"
      },
      "source": [
        "<a href=\"https://colab.research.google.com/github/choeyoungcheol/hallym2/blob/main/symcode01.ipynb\" target=\"_parent\"><img src=\"https://colab.research.google.com/assets/colab-badge.svg\" alt=\"Open In Colab\"/></a>"
      ]
    },
    {
      "cell_type": "code",
      "execution_count": 25,
      "metadata": {
        "id": "MwB2uQX37yR4"
      },
      "outputs": [],
      "source": [
        "state_1='we used personal dosimetry to investigate the association between exposure to mobile phone frequency and well-being in adults'\n",
        "state_2='a random population-based sample of 329 adults living in four different Bavarian towns was assembled for the study'\n",
        "state_3='we did not find any statistically significant association beween the exposure and chronic symptoms or between the exposure and acute sysmtoms'"
      ]
    },
    {
      "cell_type": "code",
      "source": [
        "words=['phone','mobile','using','dosimetry','frequency','study','between','exposure','association','over']\n",
        "probs=[0.586,0.486,0.273,0.271,0.257,0.223,0.214,0.207,0.168,0.168]\n",
        "dicts={'phone':0.586,\n",
        "       'mobile':0.456,\n",
        "       'using':0.273,\n",
        "       'dosimetry':0.261,\n",
        "       'frequency':0.257,\n",
        "       'study':0.223,\n",
        "       'between':0.214,\n",
        "       'exposure':0.207,\n",
        "       'association':0.168,\n",
        "       'over':0.168}"
      ],
      "metadata": {
        "id": "jMutHGdG8FV2"
      },
      "execution_count": 41,
      "outputs": []
    },
    {
      "cell_type": "code",
      "source": [
        "weight_1=0\n",
        "cnt_1=0\n",
        "for j,k in dicts.items():\n",
        "  #print('---',j,k)\n",
        "  if state_1.find(j)>0 :\n",
        "    print('-----',j,k)\n",
        "    weight_1+=k\n",
        "    cnt_1+=1\n",
        "    \n",
        "print(weight_1)\n",
        "print(cnt_1)"
      ],
      "metadata": {
        "colab": {
          "base_uri": "https://localhost:8080/"
        },
        "id": "BjhGaceg_KRD",
        "outputId": "c0c9ce3a-3ded-4c25-dc55-0bba5564fe65"
      },
      "execution_count": 47,
      "outputs": [
        {
          "output_type": "stream",
          "name": "stdout",
          "text": [
            "----- phone 0.586\n",
            "----- mobile 0.456\n",
            "----- dosimetry 0.261\n",
            "----- frequency 0.257\n",
            "----- between 0.214\n",
            "----- exposure 0.207\n",
            "----- association 0.168\n",
            "2.149\n",
            "7\n"
          ]
        }
      ]
    },
    {
      "cell_type": "code",
      "source": [
        "weight_2=0\n",
        "cnt_2=0\n",
        "for j,k in dicts.items():\n",
        "  #print('---',j,k)\n",
        "  if state_2.find(j)>0 :\n",
        "    print('-----',j,k)\n",
        "    weight_2+=k\n",
        "    cnt_2+=1\n",
        "    \n",
        "print(weight_2)\n",
        "print(cnt_2)"
      ],
      "metadata": {
        "colab": {
          "base_uri": "https://localhost:8080/"
        },
        "id": "E22JloX29_ch",
        "outputId": "cd591d1f-389c-4c61-fb0f-58c14d01ebbb"
      },
      "execution_count": 48,
      "outputs": [
        {
          "output_type": "stream",
          "name": "stdout",
          "text": [
            "----- study 0.223\n",
            "0.223\n",
            "1\n"
          ]
        }
      ]
    },
    {
      "cell_type": "code",
      "source": [
        "weight_3=0\n",
        "cnt_3=0\n",
        "for j,k in dicts.items():\n",
        "  #print('---',j,k)\n",
        "  if state_3.find(j)>0 :\n",
        "    print('-----',j,k)\n",
        "    weight_3+=k\n",
        "    cnt_3+=1\n",
        "print(weight_3)\n",
        "print(cnt_3)"
      ],
      "metadata": {
        "colab": {
          "base_uri": "https://localhost:8080/"
        },
        "id": "KCMo5kH0FDgW",
        "outputId": "ff4d8576-e145-442c-81d4-4d0fb59129e7"
      },
      "execution_count": 49,
      "outputs": [
        {
          "output_type": "stream",
          "name": "stdout",
          "text": [
            "----- between 0.214\n",
            "----- exposure 0.207\n",
            "----- association 0.168\n",
            "0.589\n",
            "3\n"
          ]
        }
      ]
    },
    {
      "cell_type": "code",
      "source": [
        "\n",
        "title='biological monitoring of on-thermal effects of mobile phone radiation : recent approaches and challenges'\n",
        "cnt=0\n",
        "for m in words:\n",
        "  cnt+=title.count(m)\n",
        "\n",
        "print(cnt)"
      ],
      "metadata": {
        "colab": {
          "base_uri": "https://localhost:8080/"
        },
        "id": "GT3ZUQ7AFIz7",
        "outputId": "194c25cf-a1b6-41e0-faf1-7b2ca8057859"
      },
      "execution_count": 34,
      "outputs": [
        {
          "output_type": "stream",
          "name": "stdout",
          "text": [
            "2\n"
          ]
        }
      ]
    },
    {
      "cell_type": "code",
      "source": [],
      "metadata": {
        "id": "teE73p7_J2s3"
      },
      "execution_count": null,
      "outputs": []
    }
  ]
}