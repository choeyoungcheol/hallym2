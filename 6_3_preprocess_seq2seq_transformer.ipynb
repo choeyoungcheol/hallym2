{
  "cells": [
    {
      "cell_type": "markdown",
      "metadata": {
        "id": "view-in-github",
        "colab_type": "text"
      },
      "source": [
        "<a href=\"https://colab.research.google.com/github/choeyoungcheol/hallym2/blob/main/6_3_preprocess_seq2seq_transformer.ipynb\" target=\"_parent\"><img src=\"https://colab.research.google.com/assets/colab-badge.svg\" alt=\"Open In Colab\"/></a>"
      ]
    },
    {
      "cell_type": "markdown",
      "source": [
        "코드출처: 자연어처리(개정2판) 전찬욱외 3인 저 6 장 챗봇만들기\n",
        "gdrive 에 연결하여 처리하도록 코드 수정"
      ],
      "metadata": {
        "id": "1-1aGG3qBgNZ"
      }
    },
    {
      "cell_type": "code",
      "source": [
        "!pip install preprocess"
      ],
      "metadata": {
        "id": "H6r7nfKqEQWR",
        "outputId": "7647eddf-edd3-4b1e-88b5-af3303c17bb3",
        "colab": {
          "base_uri": "https://localhost:8080/"
        }
      },
      "execution_count": null,
      "outputs": [
        {
          "output_type": "stream",
          "name": "stdout",
          "text": [
            "Looking in indexes: https://pypi.org/simple, https://us-python.pkg.dev/colab-wheels/public/simple/\n",
            "Collecting preprocess\n",
            "  Downloading preprocess-2.0.0-py3-none-any.whl (12 kB)\n",
            "Requirement already satisfied: future in /usr/local/lib/python3.7/dist-packages (from preprocess) (0.16.0)\n",
            "Installing collected packages: preprocess\n",
            "Successfully installed preprocess-2.0.0\n"
          ]
        }
      ]
    },
    {
      "cell_type": "code",
      "source": [
        "!pip install konlpy"
      ],
      "metadata": {
        "colab": {
          "base_uri": "https://localhost:8080/"
        },
        "id": "wt2iOjPxGnpO",
        "outputId": "81b72b32-bbc2-4c15-e5e4-600a6f8e253d"
      },
      "execution_count": null,
      "outputs": [
        {
          "output_type": "stream",
          "name": "stdout",
          "text": [
            "Looking in indexes: https://pypi.org/simple, https://us-python.pkg.dev/colab-wheels/public/simple/\n",
            "Collecting konlpy\n",
            "  Downloading konlpy-0.6.0-py2.py3-none-any.whl (19.4 MB)\n",
            "\u001b[K     |████████████████████████████████| 19.4 MB 365 kB/s \n",
            "\u001b[?25hCollecting JPype1>=0.7.0\n",
            "  Downloading JPype1-1.4.0-cp37-cp37m-manylinux_2_5_x86_64.manylinux1_x86_64.whl (453 kB)\n",
            "\u001b[K     |████████████████████████████████| 453 kB 66.2 MB/s \n",
            "\u001b[?25hRequirement already satisfied: lxml>=4.1.0 in /usr/local/lib/python3.7/dist-packages (from konlpy) (4.9.1)\n",
            "Requirement already satisfied: numpy>=1.6 in /usr/local/lib/python3.7/dist-packages (from konlpy) (1.21.6)\n",
            "Requirement already satisfied: typing-extensions in /usr/local/lib/python3.7/dist-packages (from JPype1>=0.7.0->konlpy) (4.1.1)\n",
            "Installing collected packages: JPype1, konlpy\n",
            "Successfully installed JPype1-1.4.0 konlpy-0.6.0\n"
          ]
        }
      ]
    },
    {
      "cell_type": "code",
      "execution_count": null,
      "metadata": {
        "id": "iS2zpia9EDzd"
      },
      "outputs": [],
      "source": [
        "from preprocess import *"
      ]
    },
    {
      "cell_type": "code",
      "source": [
        "from google.colab import drive\n",
        "drive.mount('/gdrive',force_remount=True)"
      ],
      "metadata": {
        "colab": {
          "base_uri": "https://localhost:8080/"
        },
        "id": "diGeZ-hLsA-H",
        "outputId": "46607e77-f913-4e76-98b7-998841ffc19d"
      },
      "execution_count": null,
      "outputs": [
        {
          "output_type": "stream",
          "name": "stdout",
          "text": [
            "Mounted at /gdrive\n"
          ]
        }
      ]
    },
    {
      "cell_type": "code",
      "execution_count": null,
      "metadata": {
        "id": "t6TcfO6yEDzf"
      },
      "outputs": [],
      "source": [
        "PATH = '/gdrive/My Drive/data_in/ChatBotData_short.csv'\n",
        "VOCAB_PATH = '/gdrive/My Drive/data_in/vocabulary.txt'"
      ]
    },
    {
      "cell_type": "code",
      "source": [
        "import os\n",
        "import re\n",
        "import json\n",
        "\n",
        "import numpy as np\n",
        "import pandas as pd\n",
        "from tqdm import tqdm\n",
        "\n",
        "from konlpy.tag import Okt\n",
        "\n",
        "\n",
        "FILTERS = \"([~.,!?\\\"':;)(])\"\n",
        "PAD = \"<PAD>\"\n",
        "STD = \"<SOS>\"\n",
        "END = \"<END>\"\n",
        "UNK = \"<UNK>\"\n",
        "\n",
        "PAD_INDEX = 0\n",
        "STD_INDEX = 1\n",
        "END_INDEX = 2\n",
        "UNK_INDEX = 3\n",
        "\n",
        "MARKER = [PAD, STD, END, UNK]\n",
        "CHANGE_FILTER = re.compile(FILTERS)\n",
        "\n",
        "MAX_SEQUENCE = 25\n",
        "\n",
        "\n",
        "def load_data(path):\n",
        "    # 판다스를 통해서 데이터를 불러온다.\n",
        "    data_df = pd.read_csv(path, header=0)\n",
        "    # 질문과 답변 열을 가져와 question과 answer에 넣는다.\n",
        "    question, answer = list(data_df['Q']), list(data_df['A'])\n",
        "\n",
        "    return question, answer\n",
        "\n",
        "\n",
        "def data_tokenizer(data):\n",
        "    # 토크나이징 해서 담을 배열 생성\n",
        "    words = []\n",
        "    for sentence in data:\n",
        "        # FILTERS = \"([~.,!?\\\"':;)(])\"\n",
        "        # 위 필터와 같은 값들을 정규화 표현식을\n",
        "        # 통해서 모두 \"\" 으로 변환 해주는 부분이다.\n",
        "        sentence = re.sub(CHANGE_FILTER, \"\", sentence)\n",
        "        for word in sentence.split():\n",
        "            words.append(word)\n",
        "    # 토그나이징과 정규표현식을 통해 만들어진\n",
        "    # 값들을 넘겨 준다.\n",
        "    return [word for word in words if word]\n",
        "\n",
        "\n",
        "def prepro_like_morphlized(data):\n",
        "    morph_analyzer = Okt()\n",
        "    result_data = list()\n",
        "    for seq in tqdm(data):\n",
        "        morphlized_seq = \" \".join(morph_analyzer.morphs(seq.replace(' ', '')))\n",
        "        result_data.append(morphlized_seq)\n",
        "\n",
        "    return result_data\n",
        "\n",
        "\n",
        "def load_vocabulary(path, vocab_path, tokenize_as_morph=False):\n",
        "    # 사전을 담을 배열 준비한다.\n",
        "    vocabulary_list = []\n",
        "    # 사전을 구성한 후 파일로 저장 진행한다.\n",
        "    # 그 파일의 존재 유무를 확인한다.\n",
        "    if not os.path.exists(vocab_path):\n",
        "        # 이미 생성된 사전 파일이 존재하지 않으므로\n",
        "        # 데이터를 가지고 만들어야 한다.\n",
        "        # 그래서 데이터가 존재 하면 사전을 만들기 위해서\n",
        "        # 데이터 파일의 존재 유무를 확인한다.\n",
        "        if (os.path.exists(path)):\n",
        "            # 데이터가 존재하니 판단스를 통해서\n",
        "            # 데이터를 불러오자\n",
        "            data_df = pd.read_csv(path, encoding='utf-8')\n",
        "            # 판다스의 데이터 프레임을 통해서\n",
        "            # 질문과 답에 대한 열을 가져 온다.\n",
        "            question, answer = list(data_df['Q']), list(data_df['A'])\n",
        "            if tokenize_as_morph:  # 형태소에 따른 토크나이져 처리\n",
        "                question = prepro_like_morphlized(question)\n",
        "                answer = prepro_like_morphlized(answer)\n",
        "            data = []\n",
        "            # 질문과 답변을 extend을\n",
        "            # 통해서 구조가 없는 배열로 만든다.\n",
        "            data.extend(question)\n",
        "            data.extend(answer)\n",
        "            # 토큰나이져 처리 하는 부분이다.\n",
        "            words = data_tokenizer(data)\n",
        "            # 공통적인 단어에 대해서는 모두\n",
        "            # 필요 없으므로 한개로 만들어 주기 위해서\n",
        "            # set해주고 이것들을 리스트로 만들어 준다.\n",
        "            words = list(set(words))\n",
        "            # 데이터 없는 내용중에 MARKER를 사전에\n",
        "            # 추가 하기 위해서 아래와 같이 처리 한다.\n",
        "            # 아래는 MARKER 값이며 리스트의 첫번째 부터\n",
        "            # 순서대로 넣기 위해서 인덱스 0에 추가한다.\n",
        "            # PAD = \"<PADDING>\"\n",
        "            # STD = \"<START>\"\n",
        "            # END = \"<END>\"\n",
        "            # UNK = \"<UNKNWON>\"\n",
        "            words[:0] = MARKER\n",
        "        # 사전을 리스트로 만들었으니 이 내용을\n",
        "        # 사전 파일을 만들어 넣는다.\n",
        "        with open(vocab_path, 'w', encoding='utf-8') as vocabulary_file:\n",
        "            for word in words:\n",
        "                vocabulary_file.write(word + '\\n')\n",
        "\n",
        "    # 사전 파일이 존재하면 여기에서\n",
        "    # 그 파일을 불러서 배열에 넣어 준다.\n",
        "    with open(vocab_path, 'r', encoding='utf-8') as vocabulary_file:\n",
        "        for line in vocabulary_file:\n",
        "            vocabulary_list.append(line.strip())\n",
        "\n",
        "    # 배열에 내용을 키와 값이 있는\n",
        "    # 딕셔너리 구조로 만든다.\n",
        "    char2idx, idx2char = make_vocabulary(vocabulary_list)\n",
        "    # 두가지 형태의 키와 값이 있는 형태를 리턴한다.\n",
        "    # (예) 단어: 인덱스 , 인덱스: 단어)\n",
        "    return char2idx, idx2char, len(char2idx)\n",
        "\n",
        "\n",
        "def make_vocabulary(vocabulary_list):\n",
        "    # 리스트를 키가 단어이고 값이 인덱스인\n",
        "    # 딕셔너리를 만든다.\n",
        "    char2idx = {char: idx for idx, char in enumerate(vocabulary_list)}\n",
        "    # 리스트를 키가 인덱스이고 값이 단어인\n",
        "    # 딕셔너리를 만든다.\n",
        "    idx2char = {idx: char for idx, char in enumerate(vocabulary_list)}\n",
        "    # 두개의 딕셔너리를 넘겨 준다.\n",
        "    return char2idx, idx2char\n",
        "\n",
        "\n",
        "def enc_processing(value, dictionary, tokenize_as_morph=False):\n",
        "    # 인덱스 값들을 가지고 있는\n",
        "    # 배열이다.(누적된다.)\n",
        "    sequences_input_index = []\n",
        "    # 하나의 인코딩 되는 문장의\n",
        "    # 길이를 가지고 있다.(누적된다.)\n",
        "    sequences_length = []\n",
        "    # 형태소 토크나이징 사용 유무\n",
        "    if tokenize_as_morph:\n",
        "        value = prepro_like_morphlized(value)\n",
        "\n",
        "    # 한줄씩 불어온다.\n",
        "    for sequence in value:\n",
        "        # FILTERS = \"([~.,!?\\\"':;)(])\"\n",
        "        # 정규화를 사용하여 필터에 들어 있는\n",
        "        # 값들을 \"\" 으로 치환 한다.\n",
        "        sequence = re.sub(CHANGE_FILTER, \"\", sequence)\n",
        "        # 하나의 문장을 인코딩 할때\n",
        "        # 가지고 있기 위한 배열이다.\n",
        "        sequence_index = []\n",
        "        # 문장을 스페이스 단위로\n",
        "        # 자르고 있다.\n",
        "        for word in sequence.split():\n",
        "            # 잘려진 단어들이 딕셔너리에 존재 하는지 보고\n",
        "            # 그 값을 가져와 sequence_index에 추가한다.\n",
        "            if dictionary.get(word) is not None:\n",
        "                sequence_index.extend([dictionary[word]])\n",
        "            # 잘려진 단어가 딕셔너리에 존재 하지 않는\n",
        "            # 경우 이므로 UNK(2)를 넣어 준다.\n",
        "            else:\n",
        "                sequence_index.extend([dictionary[UNK]])\n",
        "        # 문장 제한 길이보다 길어질 경우 뒤에 토큰을 자르고 있다.\n",
        "        if len(sequence_index) > MAX_SEQUENCE:\n",
        "            sequence_index = sequence_index[:MAX_SEQUENCE]\n",
        "        # 하나의 문장에 길이를 넣어주고 있다.\n",
        "        sequences_length.append(len(sequence_index))\n",
        "        # max_sequence_length보다 문장 길이가\n",
        "        # 작다면 빈 부분에 PAD(0)를 넣어준다.\n",
        "        sequence_index += (MAX_SEQUENCE - len(sequence_index)) * [dictionary[PAD]]\n",
        "        # 인덱스화 되어 있는 값을\n",
        "        # sequences_input_index에 넣어 준다.\n",
        "        sequences_input_index.append(sequence_index)\n",
        "    # 인덱스화된 일반 배열을 넘파이 배열로 변경한다.\n",
        "    # 이유는 텐서플로우 dataset에 넣어 주기 위한\n",
        "    # 사전 작업이다.\n",
        "    # 넘파이 배열에 인덱스화된 배열과\n",
        "    # 그 길이를 넘겨준다.\n",
        "    return np.asarray(sequences_input_index), sequences_length\n",
        "\n",
        "\n",
        "def dec_output_processing(value, dictionary, tokenize_as_morph=False):\n",
        "    # 인덱스 값들을 가지고 있는\n",
        "    # 배열이다.(누적된다)\n",
        "    sequences_output_index = []\n",
        "    # 하나의 디코딩 입력 되는 문장의\n",
        "    # 길이를 가지고 있다.(누적된다)\n",
        "    sequences_length = []\n",
        "    # 형태소 토크나이징 사용 유무\n",
        "    if tokenize_as_morph:\n",
        "        value = prepro_like_morphlized(value)\n",
        "    # 한줄씩 불어온다.\n",
        "    for sequence in value:\n",
        "        # FILTERS = \"([~.,!?\\\"':;)(])\"\n",
        "        # 정규화를 사용하여 필터에 들어 있는\n",
        "        # 값들을 \"\" 으로 치환 한다.\n",
        "        sequence = re.sub(CHANGE_FILTER, \"\", sequence)\n",
        "        # 하나의 문장을 디코딩 할때 가지고\n",
        "        # 있기 위한 배열이다.\n",
        "        sequence_index = []\n",
        "        # 디코딩 입력의 처음에는 START가 와야 하므로\n",
        "        # 그 값을 넣어 주고 시작한다.\n",
        "        # 문장에서 스페이스 단위별로 단어를 가져와서 딕셔너리의\n",
        "        # 값인 인덱스를 넣어 준다.\n",
        "        sequence_index = [dictionary[STD]] + [dictionary[word] if word in dictionary else dictionary[UNK] for word in sequence.split()]\n",
        "        # 문장 제한 길이보다 길어질 경우 뒤에 토큰을 자르고 있다.\n",
        "        if len(sequence_index) > MAX_SEQUENCE:\n",
        "            sequence_index = sequence_index[:MAX_SEQUENCE]\n",
        "        # 하나의 문장에 길이를 넣어주고 있다.\n",
        "        sequences_length.append(len(sequence_index))\n",
        "        # max_sequence_length보다 문장 길이가\n",
        "        # 작다면 빈 부분에 PAD(0)를 넣어준다.\n",
        "        sequence_index += (MAX_SEQUENCE - len(sequence_index)) * [dictionary[PAD]]\n",
        "        # 인덱스화 되어 있는 값을\n",
        "        # sequences_output_index 넣어 준다.\n",
        "        sequences_output_index.append(sequence_index)\n",
        "    # 인덱스화된 일반 배열을 넘파이 배열로 변경한다.\n",
        "    # 이유는 텐서플로우 dataset에 넣어 주기 위한\n",
        "    # 사전 작업이다.\n",
        "    # 넘파이 배열에 인덱스화된 배열과 그 길이를 넘겨준다.\n",
        "    return np.asarray(sequences_output_index), sequences_length\n",
        "\n",
        "\n",
        "def dec_target_processing(value, dictionary, tokenize_as_morph=False):\n",
        "    # 인덱스 값들을 가지고 있는\n",
        "    # 배열이다.(누적된다)\n",
        "    sequences_target_index = []\n",
        "    # 형태소 토크나이징 사용 유무\n",
        "    if tokenize_as_morph:\n",
        "        value = prepro_like_morphlized(value)\n",
        "    # 한줄씩 불어온다.\n",
        "    for sequence in value:\n",
        "        # FILTERS = \"([~.,!?\\\"':;)(])\"\n",
        "        # 정규화를 사용하여 필터에 들어 있는\n",
        "        # 값들을 \"\" 으로 치환 한다.\n",
        "        sequence = re.sub(CHANGE_FILTER, \"\", sequence)\n",
        "        # 문장에서 스페이스 단위별로 단어를 가져와서\n",
        "        # 딕셔너리의 값인 인덱스를 넣어 준다.\n",
        "        # 디코딩 출력의 마지막에 END를 넣어 준다.\n",
        "        sequence_index = [dictionary[word] if word in dictionary else dictionary[UNK] for word in sequence.split()]\n",
        "        # 문장 제한 길이보다 길어질 경우 뒤에 토큰을 자르고 있다.\n",
        "        # 그리고 END 토큰을 넣어 준다\n",
        "        if len(sequence_index) >= MAX_SEQUENCE:\n",
        "            sequence_index = sequence_index[:MAX_SEQUENCE - 1] + [dictionary[END]]\n",
        "        else:\n",
        "            sequence_index += [dictionary[END]]\n",
        "        # max_sequence_length보다 문장 길이가\n",
        "        # 작다면 빈 부분에 PAD(0)를 넣어준다.\n",
        "        sequence_index += (MAX_SEQUENCE - len(sequence_index)) * [dictionary[PAD]]\n",
        "        # 인덱스화 되어 있는 값을\n",
        "        # sequences_target_index에 넣어 준다.\n",
        "        sequences_target_index.append(sequence_index)\n",
        "    # 인덱스화된 일반 배열을 넘파이 배열로 변경한다.\n",
        "    # 이유는 텐서플로우 dataset에 넣어 주기 위한 사전 작업이다.\n",
        "    # 넘파이 배열에 인덱스화된 배열과 그 길이를 넘겨준다.\n",
        "    return np.asarray(sequences_target_index)"
      ],
      "metadata": {
        "id": "gGFJb1xDGh5T"
      },
      "execution_count": null,
      "outputs": []
    },
    {
      "cell_type": "code",
      "execution_count": null,
      "metadata": {
        "id": "49smoLo_EDzg"
      },
      "outputs": [],
      "source": [
        "inputs, outputs = load_data(PATH)"
      ]
    },
    {
      "cell_type": "code",
      "execution_count": null,
      "metadata": {
        "id": "JD92t9hqEDzh"
      },
      "outputs": [],
      "source": [
        "char2idx, idx2char, vocab_size = load_vocabulary(PATH, VOCAB_PATH, tokenize_as_morph=False)"
      ]
    },
    {
      "cell_type": "code",
      "execution_count": null,
      "metadata": {
        "id": "-TXr0NEEEDzh"
      },
      "outputs": [],
      "source": [
        "index_inputs, input_seq_len = enc_processing(inputs, char2idx, tokenize_as_morph=False)\n",
        "index_outputs, output_seq_len = dec_output_processing(outputs, char2idx, tokenize_as_morph=False)\n",
        "index_targets = dec_target_processing(outputs, char2idx, tokenize_as_morph=False)"
      ]
    },
    {
      "cell_type": "code",
      "execution_count": null,
      "metadata": {
        "id": "zByRPnsvEDzi"
      },
      "outputs": [],
      "source": [
        "data_configs = {}\n",
        "data_configs['char2idx'] = char2idx\n",
        "data_configs['idx2char'] = idx2char\n",
        "data_configs['vocab_size'] = vocab_size\n",
        "data_configs['pad_symbol'] = PAD\n",
        "data_configs['std_symbol'] = STD\n",
        "data_configs['end_symbol'] = END\n",
        "data_configs['unk_symbol'] = UNK"
      ]
    },
    {
      "cell_type": "code",
      "execution_count": null,
      "metadata": {
        "id": "qTJ9Ig8zEDzi"
      },
      "outputs": [],
      "source": [
        "DATA_IN_PATH = '/gdrive/My Drive/data_in/'\n",
        "TRAIN_INPUTS = 'train_inputs.npy'\n",
        "TRAIN_OUTPUTS = 'train_outputs.npy'\n",
        "TRAIN_TARGETS = 'train_targets.npy'\n",
        "DATA_CONFIGS = 'data_configs.json'\n",
        "\n",
        "np.save(open(DATA_IN_PATH + TRAIN_INPUTS, 'wb'), index_inputs)\n",
        "np.save(open(DATA_IN_PATH + TRAIN_OUTPUTS , 'wb'), index_outputs)\n",
        "np.save(open(DATA_IN_PATH + TRAIN_TARGETS , 'wb'), index_targets)\n",
        "\n",
        "json.dump(data_configs, open(DATA_IN_PATH + DATA_CONFIGS, 'w'))"
      ]
    },
    {
      "cell_type": "code",
      "execution_count": null,
      "metadata": {
        "id": "E-yDScjZEDzj",
        "outputId": "82df710f-088b-4b72-e227-9d42a8ab5dd2",
        "colab": {
          "base_uri": "https://localhost:8080/"
        }
      },
      "outputs": [
        {
          "output_type": "execute_result",
          "data": {
            "text/plain": [
              "{'<PAD>': 0,\n",
              " '<SOS>': 1,\n",
              " '<END>': 2,\n",
              " '<UNK>': 3,\n",
              " '교회': 4,\n",
              " '하세요': 5,\n",
              " '자의': 6,\n",
              " '안': 7,\n",
              " '더': 8,\n",
              " '식혀주세요': 9,\n",
              " '설득해보세요': 10,\n",
              " '해': 11,\n",
              " '사람도': 12,\n",
              " '따뜻하게': 13,\n",
              " '것': 14,\n",
              " '돌아가서': 15,\n",
              " '마세요': 16,\n",
              " '가난한': 17,\n",
              " '오늘': 18,\n",
              " '운동만': 19,\n",
              " '함께': 20,\n",
              " '가만': 21,\n",
              " '혼자인게': 22,\n",
              " '따라': 23,\n",
              " '다음': 24,\n",
              " '같아': 25,\n",
              " '필요했던': 26,\n",
              " '생일인데': 27,\n",
              " '비싼데': 28,\n",
              " '뭘': 29,\n",
              " '땀난다': 30,\n",
              " '가스불': 31,\n",
              " '전생에': 32,\n",
              " '집에': 33,\n",
              " '게': 34,\n",
              " '다시': 35,\n",
              " '즐기세요': 36,\n",
              " '가끔은': 37,\n",
              " '나': 38,\n",
              " '가상화폐': 39,\n",
              " '감기': 40,\n",
              " '좋다': 41,\n",
              " '때까지': 42,\n",
              " '좀': 43,\n",
              " '잘생겼어': 44,\n",
              " '질린다': 45,\n",
              " '그럴': 46,\n",
              " '평소에': 47,\n",
              " '남자친구가': 48,\n",
              " '마음을': 49,\n",
              " '집착하지': 50,\n",
              " '열': 51,\n",
              " '나갔어': 52,\n",
              " '사세요': 53,\n",
              " '승진': 54,\n",
              " '운동을': 55,\n",
              " '걸리겠어': 56,\n",
              " '좋아요': 57,\n",
              " '돈은': 58,\n",
              " '갔어': 59,\n",
              " '잊고': 60,\n",
              " '보인다': 61,\n",
              " '바빠': 62,\n",
              " '뭐하는지': 63,\n",
              " '궁금해': 64,\n",
              " '쫄딱': 65,\n",
              " '좋을까': 66,\n",
              " '달에는': 67,\n",
              " '싶어': 68,\n",
              " '너무': 69,\n",
              " '훈훈해': 70,\n",
              " '결단은': 71,\n",
              " '적당히': 72,\n",
              " '운동': 73,\n",
              " '남자친구': 74,\n",
              " '어서': 75,\n",
              " '새출발': 76,\n",
              " '나온거': 77,\n",
              " '나왔다': 78,\n",
              " '좋을': 79,\n",
              " '설움': 80,\n",
              " '데려가고': 81,\n",
              " '켜고': 82,\n",
              " '해보세요': 83,\n",
              " '빠를수록': 84,\n",
              " '또': 85,\n",
              " '구하셨나요': 86,\n",
              " '가끔': 87,\n",
              " '많이': 88,\n",
              " '선물로': 89,\n",
              " '믿어줘': 90,\n",
              " '나라를': 91,\n",
              " '나오세요': 92,\n",
              " '생각해보세요': 93,\n",
              " '있어도': 94,\n",
              " '가스비': 95,\n",
              " '땀을': 96,\n",
              " '거예요': 97,\n",
              " '끄고': 98,\n",
              " '혼자를': 99,\n",
              " '뭐가': 100,\n",
              " '줄까': 101,\n",
              " '절약해봐요': 102,\n",
              " '그': 103,\n",
              " '필요한': 104,\n",
              " '켜놓고': 105,\n",
              " '들어올': 106,\n",
              " '빨리': 107,\n",
              " '망함': 108,\n",
              " '거짓말': 109,\n",
              " '같아요': 110}"
            ]
          },
          "metadata": {},
          "execution_count": 35
        }
      ],
      "source": [
        "char2idx"
      ]
    },
    {
      "cell_type": "code",
      "execution_count": null,
      "metadata": {
        "id": "wwIwn-VMEDzk",
        "outputId": "38c68ad9-b60c-4468-f8a0-22ab5e5dea44",
        "colab": {
          "base_uri": "https://localhost:8080/"
        }
      },
      "outputs": [
        {
          "output_type": "execute_result",
          "data": {
            "text/plain": [
              "{'0': '<PAD>',\n",
              " '1': '<SOS>',\n",
              " '2': '<END>',\n",
              " '3': '<UNK>',\n",
              " '4': '교회',\n",
              " '5': '하세요',\n",
              " '6': '자의',\n",
              " '7': '안',\n",
              " '8': '더',\n",
              " '9': '식혀주세요',\n",
              " '10': '설득해보세요',\n",
              " '11': '해',\n",
              " '12': '사람도',\n",
              " '13': '따뜻하게',\n",
              " '14': '것',\n",
              " '15': '돌아가서',\n",
              " '16': '마세요',\n",
              " '17': '가난한',\n",
              " '18': '오늘',\n",
              " '19': '운동만',\n",
              " '20': '함께',\n",
              " '21': '가만',\n",
              " '22': '혼자인게',\n",
              " '23': '따라',\n",
              " '24': '다음',\n",
              " '25': '같아',\n",
              " '26': '필요했던',\n",
              " '27': '생일인데',\n",
              " '28': '비싼데',\n",
              " '29': '뭘',\n",
              " '30': '땀난다',\n",
              " '31': '가스불',\n",
              " '32': '전생에',\n",
              " '33': '집에',\n",
              " '34': '게',\n",
              " '35': '다시',\n",
              " '36': '즐기세요',\n",
              " '37': '가끔은',\n",
              " '38': '나',\n",
              " '39': '가상화폐',\n",
              " '40': '감기',\n",
              " '41': '좋다',\n",
              " '42': '때까지',\n",
              " '43': '좀',\n",
              " '44': '잘생겼어',\n",
              " '45': '질린다',\n",
              " '46': '그럴',\n",
              " '47': '평소에',\n",
              " '48': '남자친구가',\n",
              " '49': '마음을',\n",
              " '50': '집착하지',\n",
              " '51': '열',\n",
              " '52': '나갔어',\n",
              " '53': '사세요',\n",
              " '54': '승진',\n",
              " '55': '운동을',\n",
              " '56': '걸리겠어',\n",
              " '57': '좋아요',\n",
              " '58': '돈은',\n",
              " '59': '갔어',\n",
              " '60': '잊고',\n",
              " '61': '보인다',\n",
              " '62': '바빠',\n",
              " '63': '뭐하는지',\n",
              " '64': '궁금해',\n",
              " '65': '쫄딱',\n",
              " '66': '좋을까',\n",
              " '67': '달에는',\n",
              " '68': '싶어',\n",
              " '69': '너무',\n",
              " '70': '훈훈해',\n",
              " '71': '결단은',\n",
              " '72': '적당히',\n",
              " '73': '운동',\n",
              " '74': '남자친구',\n",
              " '75': '어서',\n",
              " '76': '새출발',\n",
              " '77': '나온거',\n",
              " '78': '나왔다',\n",
              " '79': '좋을',\n",
              " '80': '설움',\n",
              " '81': '데려가고',\n",
              " '82': '켜고',\n",
              " '83': '해보세요',\n",
              " '84': '빠를수록',\n",
              " '85': '또',\n",
              " '86': '구하셨나요',\n",
              " '87': '가끔',\n",
              " '88': '많이',\n",
              " '89': '선물로',\n",
              " '90': '믿어줘',\n",
              " '91': '나라를',\n",
              " '92': '나오세요',\n",
              " '93': '생각해보세요',\n",
              " '94': '있어도',\n",
              " '95': '가스비',\n",
              " '96': '땀을',\n",
              " '97': '거예요',\n",
              " '98': '끄고',\n",
              " '99': '혼자를',\n",
              " '100': '뭐가',\n",
              " '101': '줄까',\n",
              " '102': '절약해봐요',\n",
              " '103': '그',\n",
              " '104': '필요한',\n",
              " '105': '켜놓고',\n",
              " '106': '들어올',\n",
              " '107': '빨리',\n",
              " '108': '망함',\n",
              " '109': '거짓말',\n",
              " '110': '같아요'}"
            ]
          },
          "metadata": {},
          "execution_count": 36
        }
      ],
      "source": [
        "idx2char"
      ]
    },
    {
      "cell_type": "code",
      "execution_count": null,
      "metadata": {
        "id": "9J9BZJJxEDzl"
      },
      "outputs": [],
      "source": [
        "import tensorflow as tf\n",
        "import numpy as np\n",
        "import os\n",
        "\n",
        "from tensorflow.keras.callbacks import EarlyStopping, ModelCheckpoint\n",
        "import matplotlib.pyplot as plt\n",
        "\n",
        "from preprocess import *"
      ]
    },
    {
      "cell_type": "code",
      "execution_count": null,
      "metadata": {
        "id": "h8KtMz0DEDzm"
      },
      "outputs": [],
      "source": [
        "def plot_graphs(history, string):\n",
        "    plt.plot(history.history[string])\n",
        "    plt.plot(history.history['val_'+string], '')\n",
        "    plt.xlabel(\"Epochs\")\n",
        "    plt.ylabel(string)\n",
        "    plt.legend([string, 'val_'+string])\n",
        "    plt.show()"
      ]
    },
    {
      "cell_type": "code",
      "source": [
        "DATA_IN_PATH = '/gdrive/My Drive/data_in/'\n",
        "DATA_OUT_PATH = '/gdrive/My Drive/data_out/'\n",
        "TRAIN_INPUTS = 'train_inputs.npy'\n",
        "TRAIN_OUTPUTS = 'train_outputs.npy'\n",
        "TRAIN_TARGETS = 'train_targets.npy'\n",
        "DATA_CONFIGS = 'data_configs.json'"
      ],
      "metadata": {
        "id": "jI_BJRumKTAa"
      },
      "execution_count": null,
      "outputs": []
    },
    {
      "cell_type": "code",
      "source": [
        "SEED_NUM = 1234\n",
        "tf.random.set_seed(SEED_NUM)"
      ],
      "metadata": {
        "id": "Ssby8aL7KXHS"
      },
      "execution_count": null,
      "outputs": []
    },
    {
      "cell_type": "code",
      "source": [
        "index_inputs = np.load(open(DATA_IN_PATH + TRAIN_INPUTS, 'rb'))\n",
        "index_outputs = np.load(open(DATA_IN_PATH + TRAIN_OUTPUTS , 'rb'))\n",
        "index_targets = np.load(open(DATA_IN_PATH + TRAIN_TARGETS , 'rb'))\n",
        "prepro_configs = json.load(open(DATA_IN_PATH + DATA_CONFIGS, 'r'))"
      ],
      "metadata": {
        "id": "L61TxcHBKcA4"
      },
      "execution_count": null,
      "outputs": []
    },
    {
      "cell_type": "code",
      "source": [
        "# Show length and index---\n",
        "print(len(index_inputs),  len(index_outputs), len(index_targets))\n",
        "print('index_inputs---\\n',index_inputs)\n",
        "print('index_outputs---\\n',index_outputs)\n",
        "print('index_targets---\\n',index_targets)"
      ],
      "metadata": {
        "colab": {
          "base_uri": "https://localhost:8080/"
        },
        "id": "Px0R4EqTKgis",
        "outputId": "0e488a06-3fc2-46ba-8374-d16fa2d5e02d"
      },
      "execution_count": null,
      "outputs": [
        {
          "output_type": "stream",
          "name": "stdout",
          "text": [
            "20 20 20\n",
            "index_inputs---\n",
            " [[ 87  64   0   0   0   0   0   0   0   0   0   0   0   0   0   0   0   0\n",
            "    0   0   0   0   0   0   0]\n",
            " [ 87  63  64   0   0   0   0   0   0   0   0   0   0   0   0   0   0   0\n",
            "    0   0   0   0   0   0   0]\n",
            " [ 37  22  41   0   0   0   0   0   0   0   0   0   0   0   0   0   0   0\n",
            "    0   0   0   0   0   0   0]\n",
            " [ 17   6  80   0   0   0   0   0   0   0   0   0   0   0   0   0   0   0\n",
            "    0   0   0   0   0   0   0]\n",
            " [ 21  94  30   0   0   0   0   0   0   0   0   0   0   0   0   0   0   0\n",
            "    0   0   0   0   0   0   0]\n",
            " [ 39  65 108   0   0   0   0   0   0   0   0   0   0   0   0   0   0   0\n",
            "    0   0   0   0   0   0   0]\n",
            " [ 31  82  52   0   0   0   0   0   0   0   0   0   0   0   0   0   0   0\n",
            "    0   0   0   0   0   0   0]\n",
            " [ 31 105  77  25   0   0   0   0   0   0   0   0   0   0   0   0   0   0\n",
            "    0   0   0   0   0   0   0]\n",
            " [ 95  69  88  78   0   0   0   0   0   0   0   0   0   0   0   0   0   0\n",
            "    0   0   0   0   0   0   0]\n",
            " [ 95  28  40  56   0   0   0   0   0   0   0   0   0   0   0   0   0   0\n",
            "    0   0   0   0   0   0   0]\n",
            " [ 74   4  81  68   0   0   0   0   0   0   0   0   0   0   0   0   0   0\n",
            "    0   0   0   0   0   0   0]\n",
            " [ 74  85  73  59   0   0   0   0   0   0   0   0   0   0   0   0   0   0\n",
            "    0   0   0   0   0   0   0]\n",
            " [ 74  27  29 101   0   0   0   0   0   0   0   0   0   0   0   0   0   0\n",
            "    0   0   0   0   0   0   0]\n",
            " [ 74  54  89 100  66   0   0   0   0   0   0   0   0   0   0   0   0   0\n",
            "    0   0   0   0   0   0   0]\n",
            " [ 74  18  23  70  61   0   0   0   0   0   0   0   0   0   0   0   0   0\n",
            "    0   0   0   0   0   0   0]\n",
            " [ 74  18  43  45   0   0   0   0   0   0   0   0   0   0   0   0   0   0\n",
            "    0   0   0   0   0   0   0]\n",
            " [ 48  38   7  90   0   0   0   0   0   0   0   0   0   0   0   0   0   0\n",
            "    0   0   0   0   0   0   0]\n",
            " [ 48  69  62   0   0   0   0   0   0   0   0   0   0   0   0   0   0   0\n",
            "    0   0   0   0   0   0   0]\n",
            " [ 48  69  19  11   0   0   0   0   0   0   0   0   0   0   0   0   0   0\n",
            "    0   0   0   0   0   0   0]\n",
            " [ 48  69  44   0   0   0   0   0   0   0   0   0   0   0   0   0   0   0\n",
            "    0   0   0   0   0   0   0]]\n",
            "index_outputs---\n",
            " [[  1 103  12  46  97   0   0   0   0   0   0   0   0   0   0   0   0   0\n",
            "    0   0   0   0   0   0   0]\n",
            " [  1 103  12  46  97   0   0   0   0   0   0   0   0   0   0   0   0   0\n",
            "    0   0   0   0   0   0   0]\n",
            " [  1  99  36   0   0   0   0   0   0   0   0   0   0   0   0   0   0   0\n",
            "    0   0   0   0   0   0   0]\n",
            " [  1  58  35 106  97   0   0   0   0   0   0   0   0   0   0   0   0   0\n",
            "    0   0   0   0   0   0   0]\n",
            " [  1  96   9   0   0   0   0   0   0   0   0   0   0   0   0   0   0   0\n",
            "    0   0   0   0   0   0   0]\n",
            " [  1  75  60  76   5   0   0   0   0   0   0   0   0   0   0   0   0   0\n",
            "    0   0   0   0   0   0   0]\n",
            " [  1 107  33  15  98  92   0   0   0   0   0   0   0   0   0   0   0   0\n",
            "    0   0   0   0   0   0   0]\n",
            " [  1 107  33  15  98  92   0   0   0   0   0   0   0   0   0   0   0   0\n",
            "    0   0   0   0   0   0   0]\n",
            " [  1  24  67   8 102   0   0   0   0   0   0   0   0   0   0   0   0   0\n",
            "    0   0   0   0   0   0   0]\n",
            " [  1  13  53   0   0   0   0   0   0   0   0   0   0   0   0   0   0   0\n",
            "    0   0   0   0   0   0   0]\n",
            " [  1  49  51  42  10   0   0   0   0   0   0   0   0   0   0   0   0   0\n",
            "    0   0   0   0   0   0   0]\n",
            " [  1  55  20  83   0   0   0   0   0   0   0   0   0   0   0   0   0   0\n",
            "    0   0   0   0   0   0   0]\n",
            " [  1  47 104  14  93   0   0   0   0   0   0   0   0   0   0   0   0   0\n",
            "    0   0   0   0   0   0   0]\n",
            " [  1  47  26  34  79  14 110   0   0   0   0   0   0   0   0   0   0   0\n",
            "    0   0   0   0   0   0   0]\n",
            " [  1  32  91  86   0   0   0   0   0   0   0   0   0   0   0   0   0   0\n",
            "    0   0   0   0   0   0   0]\n",
            " [  1  71  84  57   0   0   0   0   0   0   0   0   0   0   0   0   0   0\n",
            "    0   0   0   0   0   0   0]\n",
            " [  1 109  72   5   0   0   0   0   0   0   0   0   0   0   0   0   0   0\n",
            "    0   0   0   0   0   0   0]\n",
            " [  1  69  50  16   0   0   0   0   0   0   0   0   0   0   0   0   0   0\n",
            "    0   0   0   0   0   0   0]\n",
            " [  1  55  20  83   0   0   0   0   0   0   0   0   0   0   0   0   0   0\n",
            "    0   0   0   0   0   0   0]\n",
            " [  1  32  91  86   0   0   0   0   0   0   0   0   0   0   0   0   0   0\n",
            "    0   0   0   0   0   0   0]]\n",
            "index_targets---\n",
            " [[103  12  46  97   2   0   0   0   0   0   0   0   0   0   0   0   0   0\n",
            "    0   0   0   0   0   0   0]\n",
            " [103  12  46  97   2   0   0   0   0   0   0   0   0   0   0   0   0   0\n",
            "    0   0   0   0   0   0   0]\n",
            " [ 99  36   2   0   0   0   0   0   0   0   0   0   0   0   0   0   0   0\n",
            "    0   0   0   0   0   0   0]\n",
            " [ 58  35 106  97   2   0   0   0   0   0   0   0   0   0   0   0   0   0\n",
            "    0   0   0   0   0   0   0]\n",
            " [ 96   9   2   0   0   0   0   0   0   0   0   0   0   0   0   0   0   0\n",
            "    0   0   0   0   0   0   0]\n",
            " [ 75  60  76   5   2   0   0   0   0   0   0   0   0   0   0   0   0   0\n",
            "    0   0   0   0   0   0   0]\n",
            " [107  33  15  98  92   2   0   0   0   0   0   0   0   0   0   0   0   0\n",
            "    0   0   0   0   0   0   0]\n",
            " [107  33  15  98  92   2   0   0   0   0   0   0   0   0   0   0   0   0\n",
            "    0   0   0   0   0   0   0]\n",
            " [ 24  67   8 102   2   0   0   0   0   0   0   0   0   0   0   0   0   0\n",
            "    0   0   0   0   0   0   0]\n",
            " [ 13  53   2   0   0   0   0   0   0   0   0   0   0   0   0   0   0   0\n",
            "    0   0   0   0   0   0   0]\n",
            " [ 49  51  42  10   2   0   0   0   0   0   0   0   0   0   0   0   0   0\n",
            "    0   0   0   0   0   0   0]\n",
            " [ 55  20  83   2   0   0   0   0   0   0   0   0   0   0   0   0   0   0\n",
            "    0   0   0   0   0   0   0]\n",
            " [ 47 104  14  93   2   0   0   0   0   0   0   0   0   0   0   0   0   0\n",
            "    0   0   0   0   0   0   0]\n",
            " [ 47  26  34  79  14 110   2   0   0   0   0   0   0   0   0   0   0   0\n",
            "    0   0   0   0   0   0   0]\n",
            " [ 32  91  86   2   0   0   0   0   0   0   0   0   0   0   0   0   0   0\n",
            "    0   0   0   0   0   0   0]\n",
            " [ 71  84  57   2   0   0   0   0   0   0   0   0   0   0   0   0   0   0\n",
            "    0   0   0   0   0   0   0]\n",
            " [109  72   5   2   0   0   0   0   0   0   0   0   0   0   0   0   0   0\n",
            "    0   0   0   0   0   0   0]\n",
            " [ 69  50  16   2   0   0   0   0   0   0   0   0   0   0   0   0   0   0\n",
            "    0   0   0   0   0   0   0]\n",
            " [ 55  20  83   2   0   0   0   0   0   0   0   0   0   0   0   0   0   0\n",
            "    0   0   0   0   0   0   0]\n",
            " [ 32  91  86   2   0   0   0   0   0   0   0   0   0   0   0   0   0   0\n",
            "    0   0   0   0   0   0   0]]\n"
          ]
        }
      ]
    },
    {
      "cell_type": "code",
      "source": [
        "MODEL_NAME = 'seq2seq_kor'\n",
        "BATCH_SIZE = 2\n",
        "MAX_SEQUENCE = 25\n",
        "EPOCH = 30\n",
        "UNITS = 1024\n",
        "EMBEDDING_DIM = 256\n",
        "VALIDATION_SPLIT = 0.1 \n",
        "\n",
        "char2idx = prepro_configs['char2idx']\n",
        "idx2char = prepro_configs['idx2char']\n",
        "std_index = prepro_configs['std_symbol']\n",
        "end_index = prepro_configs['end_symbol']\n",
        "vocab_size = prepro_configs['vocab_size']"
      ],
      "metadata": {
        "id": "lDh17MiqKkIz"
      },
      "execution_count": null,
      "outputs": []
    },
    {
      "cell_type": "code",
      "source": [
        "class Encoder(tf.keras.layers.Layer):\n",
        "    def __init__(self, vocab_size, embedding_dim, enc_units, batch_sz):\n",
        "        super(Encoder, self).__init__()\n",
        "        self.batch_sz = batch_sz\n",
        "        self.enc_units = enc_units\n",
        "        self.vocab_size = vocab_size \n",
        "        self.embedding_dim = embedding_dim          \n",
        "        \n",
        "        self.embedding = tf.keras.layers.Embedding(self.vocab_size, self.embedding_dim)\n",
        "        self.gru = tf.keras.layers.GRU(self.enc_units,\n",
        "                                       return_sequences=True,\n",
        "                                       return_state=True,\n",
        "                                       recurrent_initializer='glorot_uniform')\n",
        "\n",
        "    def call(self, x, hidden):\n",
        "        x = self.embedding(x)\n",
        "        output, state = self.gru(x, initial_state = hidden)\n",
        "        return output, state\n",
        "\n",
        "    def initialize_hidden_state(self, inp):\n",
        "        return tf.zeros((tf.shape(inp)[0], self.enc_units))"
      ],
      "metadata": {
        "id": "kwNNncPmKoKg"
      },
      "execution_count": null,
      "outputs": []
    },
    {
      "cell_type": "code",
      "source": [
        "#--1: test of super class---\n",
        "class bbb():\n",
        "  def __init__(self):\n",
        "    self.ww=1234\n",
        "\n",
        "class aaa(bbb):\n",
        "  def __init__(self,a):\n",
        "    super(aaa,self).__init__()\n",
        "    self.a=a+1\n",
        "    print(self.a)\n",
        "    print(self.ww)\n",
        "xx=5\n",
        "x=aaa(xx)\n"
      ],
      "metadata": {
        "colab": {
          "base_uri": "https://localhost:8080/"
        },
        "id": "kaG4-cifUmb5",
        "outputId": "5c3ceb9f-06d5-4757-ed3b-1cba6c745ead"
      },
      "execution_count": null,
      "outputs": [
        {
          "output_type": "stream",
          "name": "stdout",
          "text": [
            "6\n",
            "1234\n"
          ]
        }
      ]
    },
    {
      "cell_type": "code",
      "source": [
        "#--2: test of super class---\n",
        "\n",
        "class Person:\n",
        "    def __init__(self):\n",
        "        self.name = '김삿갓'\n",
        "        self.age = 27\n",
        "\n",
        "    def get_name(self):\n",
        "        print(f'제 이름은 {self.name}입니다.')\n",
        "    \n",
        "    def get_age(self):\n",
        "        print(f'제 나이는 {self.age}세 입니다.')\n",
        "#\n",
        "print('-------------------------------------------------')\n",
        "person_a = Person()\n",
        "person_a.get_name() # 제 이름은 김OO입니다.\n",
        "person_a.get_age() # 제 나이는 27세 입니다.\n",
        "\n",
        "class Student(Person):\n",
        "    def __init__(self, GPA):\n",
        "        super(Student,self).__init__()\n",
        "        self.GPA = GPA\n",
        "        print('이름:',self.name)\n",
        "        print('나이:',self.age)\n",
        "        \n",
        "    def get_GPA(self):\n",
        "        print(f'학점: {self.GPA}입니다.')\n",
        "#\n",
        "print('-------------------------------------------------')\n",
        "#\n",
        "student_a = Student(3.4)\n",
        "student_a.get_GPA() # 제 학점은 3.4입니다."
      ],
      "metadata": {
        "colab": {
          "base_uri": "https://localhost:8080/"
        },
        "id": "oJIlKfM5FVCj",
        "outputId": "89db178c-ba4f-4997-9260-390fba1f3b31"
      },
      "execution_count": null,
      "outputs": [
        {
          "output_type": "stream",
          "name": "stdout",
          "text": [
            "-------------------------------------------------\n",
            "제 이름은 김삿갓입니다.\n",
            "제 나이는 27세 입니다.\n",
            "-------------------------------------------------\n",
            "이름: 김삿갓\n",
            "나이: 27\n",
            "학점: 3.4입니다.\n"
          ]
        }
      ]
    },
    {
      "cell_type": "code",
      "source": [
        "#--3: test of super class---\n",
        "\n",
        "class Person:\n",
        "    def __init__(self,name,age):\n",
        "        self.name = name\n",
        "        self.age = age\n",
        "\n",
        "    def get_name(self):\n",
        "        print(f'제 이름은 {self.name}입니다.')\n",
        "    \n",
        "    def get_age(self):\n",
        "        print(f'제 나이는 {self.age}세 입니다.')\n",
        "#\n",
        "print('-------------------------------------------------')\n",
        "person_a = Person('김삿갓',27)\n",
        "person_a.get_name() # 제 이름은 김OO입니다.\n",
        "person_a.get_age() # 제 나이는 27세 입니다.\n",
        "\n",
        "class Student(Person):\n",
        "    def __init__(self, name,age,GPA):\n",
        "        super(Student,self).__init__(name,age)\n",
        "        self.GPA = GPA\n",
        "        print('이름:',self.name)\n",
        "        print('나이:',self.age)\n",
        "        \n",
        "    def get_GPA(self):\n",
        "        print(f'학점: {self.GPA}입니다.')\n",
        "#\n",
        "print('-------------------------------------------------')\n",
        "#\n",
        "student_a = Student('홍길동',33,3.4)\n",
        "student_a.get_GPA() # 제 학점은 3.4입니다."
      ],
      "metadata": {
        "colab": {
          "base_uri": "https://localhost:8080/"
        },
        "id": "85DGvMboOUnz",
        "outputId": "8cfb132b-a98e-4633-e445-710354d1fec0"
      },
      "execution_count": null,
      "outputs": [
        {
          "output_type": "stream",
          "name": "stdout",
          "text": [
            "-------------------------------------------------\n",
            "제 이름은 김삿갓입니다.\n",
            "제 나이는 27세 입니다.\n",
            "-------------------------------------------------\n",
            "이름: 홍길동\n",
            "나이: 33\n",
            "학점: 3.4입니다.\n"
          ]
        }
      ]
    },
    {
      "cell_type": "code",
      "source": [
        "#--4: test of super class---\n",
        "\n",
        "class Person:\n",
        "    def __init__(self,name,age):\n",
        "        self.name = name\n",
        "        self.age = age\n",
        "\n",
        "    def get_name(self):\n",
        "        print(f'제 이름은 {self.name}입니다.')\n",
        "    \n",
        "    def get_age(self):\n",
        "        print(f'제 나이는 {self.age}세 입니다.')\n",
        "#\n",
        "print('-------------------------------------------------')\n",
        "person_a = Person('김일반',27)\n",
        "person_a.get_name() \n",
        "person_a.get_age() \n",
        "\n",
        "class Student(Person):\n",
        "    def __init__(self, name,age,GPA):\n",
        "        super(Student,self).__init__(name,age)\n",
        "        self.GPA = GPA\n",
        "        print('학생:',self.name)\n",
        "        print('나이:',self.age)\n",
        "        \n",
        "    def get_GPA(self):\n",
        "        print(f'학점: {self.GPA}입니다.')\n",
        "#\n",
        "print('-------------------------------------------------')\n",
        "#\n",
        "student_a = Student('홍학생',33,3.4)\n",
        "student_a.get_GPA() \n",
        "#\n",
        "class Teacher(Person):\n",
        "    def __init__(self, name,age,Subject):\n",
        "        super(Teacher,self).__init__(name,age)\n",
        "        self.Subject = Subject\n",
        "        print('교수:',self.name)\n",
        "        print('나이:',self.age)\n",
        "        \n",
        "    def get_Subject(self):\n",
        "        print(f'과목: {self.Subject}입니다.')\n",
        "#\n",
        "print('-------------------------------------------------')\n",
        "#\n",
        "Teacher_a = Teacher('강선생',53,'python')\n",
        "Teacher_a.get_Subject() "
      ],
      "metadata": {
        "colab": {
          "base_uri": "https://localhost:8080/"
        },
        "id": "vlwo4RZ9Ck7q",
        "outputId": "a6d9b8b0-e818-40e4-9995-8db95d416568"
      },
      "execution_count": 7,
      "outputs": [
        {
          "output_type": "stream",
          "name": "stdout",
          "text": [
            "-------------------------------------------------\n",
            "제 이름은 김일반입니다.\n",
            "제 나이는 27세 입니다.\n",
            "-------------------------------------------------\n",
            "학생: 홍학생\n",
            "나이: 33\n",
            "학점: 3.4입니다.\n",
            "-------------------------------------------------\n",
            "교수: 강선생\n",
            "나이: 53\n",
            "과목: python입니다.\n"
          ]
        }
      ]
    },
    {
      "cell_type": "code",
      "source": [
        "class BahdanauAttention(tf.keras.layers.Layer):\n",
        "    def __init__(self, units):\n",
        "        super(BahdanauAttention, self).__init__()\n",
        "        self.W1 = tf.keras.layers.Dense(units)\n",
        "        self.W2 = tf.keras.layers.Dense(units)\n",
        "        self.V = tf.keras.layers.Dense(1)\n",
        "\n",
        "    def call(self, query, values):\n",
        "        hidden_with_time_axis = tf.expand_dims(query, 1)\n",
        "\n",
        "        score = self.V(tf.nn.tanh(\n",
        "            self.W1(values) + self.W2(hidden_with_time_axis)))\n",
        "\n",
        "        attention_weights = tf.nn.softmax(score, axis=1)\n",
        "\n",
        "        context_vector = attention_weights * values\n",
        "        context_vector = tf.reduce_sum(context_vector, axis=1)\n",
        "\n",
        "        return context_vector, attention_weights"
      ],
      "metadata": {
        "id": "uqVax_k0KtDE"
      },
      "execution_count": null,
      "outputs": []
    },
    {
      "cell_type": "code",
      "source": [
        "class Decoder(tf.keras.layers.Layer):\n",
        "    def __init__(self, vocab_size, embedding_dim, dec_units, batch_sz):\n",
        "        super(Decoder, self).__init__()\n",
        "        \n",
        "        self.batch_sz = batch_sz\n",
        "        self.dec_units = dec_units\n",
        "        self.vocab_size = vocab_size \n",
        "        self.embedding_dim = embedding_dim  \n",
        "        \n",
        "        self.embedding = tf.keras.layers.Embedding(self.vocab_size, self.embedding_dim)\n",
        "        self.gru = tf.keras.layers.GRU(self.dec_units,\n",
        "                                       return_sequences=True,\n",
        "                                       return_state=True,\n",
        "                                       recurrent_initializer='glorot_uniform')\n",
        "        self.fc = tf.keras.layers.Dense(self.vocab_size)\n",
        "\n",
        "        self.attention = BahdanauAttention(self.dec_units)\n",
        "        \n",
        "    def call(self, x, hidden, enc_output):\n",
        "        context_vector, attention_weights = self.attention(hidden, enc_output)\n",
        "\n",
        "        x = self.embedding(x)\n",
        "\n",
        "        x = tf.concat([tf.expand_dims(context_vector, 1), x], axis=-1)\n",
        "\n",
        "        output, state = self.gru(x)\n",
        "        output = tf.reshape(output, (-1, output.shape[2]))\n",
        "            \n",
        "        x = self.fc(output)\n",
        "        \n",
        "        return x, state, attention_weights"
      ],
      "metadata": {
        "id": "NqZ7fUNPKx60"
      },
      "execution_count": null,
      "outputs": []
    },
    {
      "cell_type": "code",
      "source": [
        "optimizer = tf.keras.optimizers.Adam()\n",
        "\n",
        "loss_object = tf.keras.losses.SparseCategoricalCrossentropy(from_logits=True, reduction='none')\n",
        "\n",
        "train_accuracy = tf.keras.metrics.SparseCategoricalAccuracy(name='accuracy')\n",
        "\n",
        "def loss(real, pred):\n",
        "    mask = tf.math.logical_not(tf.math.equal(real, 0))\n",
        "    loss_ = loss_object(real, pred)\n",
        "    mask = tf.cast(mask, dtype=loss_.dtype)\n",
        "    loss_ *= mask\n",
        "    return tf.reduce_mean(loss_)\n",
        "\n",
        "def accuracy(real, pred):\n",
        "    mask = tf.math.logical_not(tf.math.equal(real, 0))\n",
        "    mask = tf.expand_dims(tf.cast(mask, dtype=pred.dtype), axis=-1)\n",
        "    pred *= mask    \n",
        "    acc = train_accuracy(real, pred)\n",
        "\n",
        "    return tf.reduce_mean(acc)"
      ],
      "metadata": {
        "id": "0MyxfZ9SK42O"
      },
      "execution_count": null,
      "outputs": []
    },
    {
      "cell_type": "code",
      "source": [
        "class seq2seq(tf.keras.Model):\n",
        "    def __init__(self, vocab_size, embedding_dim, enc_units, dec_units, batch_sz, end_token_idx=2):    \n",
        "        super(seq2seq, self).__init__()\n",
        "        self.end_token_idx = end_token_idx\n",
        "        self.encoder = Encoder(vocab_size, embedding_dim, enc_units, batch_sz) \n",
        "        self.decoder = Decoder(vocab_size, embedding_dim, dec_units, batch_sz) \n",
        "\n",
        "    def call(self, x):\n",
        "        inp, tar = x\n",
        "        \n",
        "        enc_hidden = self.encoder.initialize_hidden_state(inp)\n",
        "        enc_output, enc_hidden = self.encoder(inp, enc_hidden)\n",
        "\n",
        "        dec_hidden = enc_hidden\n",
        "\n",
        "        predict_tokens = list()\n",
        "        for t in range(0, tar.shape[1]):\n",
        "            dec_input = tf.dtypes.cast(tf.expand_dims(tar[:, t], 1), tf.float32) \n",
        "            predictions, dec_hidden, _ = self.decoder(dec_input, dec_hidden, enc_output)\n",
        "            predict_tokens.append(tf.dtypes.cast(predictions, tf.float32))   \n",
        "        return tf.stack(predict_tokens, axis=1)\n",
        "    \n",
        "    def inference(self, x):\n",
        "        inp  = x\n",
        "\n",
        "        enc_hidden = self.encoder.initialize_hidden_state(inp)\n",
        "        enc_output, enc_hidden = self.encoder(inp, enc_hidden)\n",
        "\n",
        "        dec_hidden = enc_hidden\n",
        "        \n",
        "        dec_input = tf.expand_dims([char2idx[std_index]], 1)\n",
        "        \n",
        "        predict_tokens = list()\n",
        "        for t in range(0, MAX_SEQUENCE):\n",
        "            predictions, dec_hidden, _ = self.decoder(dec_input, dec_hidden, enc_output)\n",
        "            predict_token = tf.argmax(predictions[0])\n",
        "            \n",
        "            if predict_token == self.end_token_idx:\n",
        "                break\n",
        "            \n",
        "            predict_tokens.append(predict_token)\n",
        "            dec_input = tf.dtypes.cast(tf.expand_dims([predict_token], 0), tf.float32)   \n",
        "            \n",
        "        return tf.stack(predict_tokens, axis=0).numpy()"
      ],
      "metadata": {
        "id": "HZ0aEvOLK85a"
      },
      "execution_count": null,
      "outputs": []
    },
    {
      "cell_type": "code",
      "source": [
        "model = seq2seq(vocab_size, EMBEDDING_DIM, UNITS, UNITS, BATCH_SIZE, char2idx[end_index])\n",
        "model.compile(loss=loss, optimizer=tf.keras.optimizers.Adam(1e-3), metrics=[accuracy])\n",
        "#model.run_eagerly = True"
      ],
      "metadata": {
        "id": "0nfuiy0PLBrg"
      },
      "execution_count": null,
      "outputs": []
    },
    {
      "cell_type": "code",
      "source": [
        "PATH = DATA_OUT_PATH + MODEL_NAME\n",
        "if not(os.path.isdir(PATH)):\n",
        "        os.makedirs(os.path.join(PATH))\n",
        "        \n",
        "checkpoint_path = DATA_OUT_PATH + MODEL_NAME + '/weights.h5'\n",
        "    \n",
        "cp_callback = ModelCheckpoint(\n",
        "    checkpoint_path, monitor='val_accuracy', verbose=1, save_best_only=True, save_weights_only=True)\n",
        "\n",
        "earlystop_callback = EarlyStopping(monitor='val_accuracy', min_delta=0.0001, patience=10)\n",
        "\n",
        "history = model.fit([index_inputs, index_outputs], index_targets,\n",
        "                    batch_size=BATCH_SIZE, epochs=EPOCH,\n",
        "                    validation_split=VALIDATION_SPLIT, callbacks=[earlystop_callback, cp_callback])"
      ],
      "metadata": {
        "colab": {
          "base_uri": "https://localhost:8080/"
        },
        "id": "I7BgwULjLFjx",
        "outputId": "10980a59-0c24-4535-8b31-0a149319b4ee"
      },
      "execution_count": null,
      "outputs": [
        {
          "output_type": "stream",
          "name": "stdout",
          "text": [
            "Epoch 1/30\n",
            "9/9 [==============================] - ETA: 0s - loss: 0.8672 - accuracy: 0.8360\n",
            "Epoch 1: val_accuracy improved from -inf to 0.85400, saving model to seq2seq_kor/weights.h5\n",
            "9/9 [==============================] - 80s 4s/step - loss: 0.8672 - accuracy: 0.8360 - val_loss: 0.7044 - val_accuracy: 0.8540\n",
            "Epoch 2/30\n",
            "9/9 [==============================] - ETA: 0s - loss: 0.7855 - accuracy: 0.8527\n",
            "Epoch 2: val_accuracy improved from 0.85400 to 0.85600, saving model to seq2seq_kor/weights.h5\n",
            "9/9 [==============================] - 24s 3s/step - loss: 0.7855 - accuracy: 0.8527 - val_loss: 0.6537 - val_accuracy: 0.8560\n",
            "Epoch 3/30\n",
            "9/9 [==============================] - ETA: 0s - loss: 0.6858 - accuracy: 0.8572\n",
            "Epoch 3: val_accuracy improved from 0.85600 to 0.85667, saving model to seq2seq_kor/weights.h5\n",
            "9/9 [==============================] - 24s 3s/step - loss: 0.6858 - accuracy: 0.8572 - val_loss: 0.5692 - val_accuracy: 0.8567\n",
            "Epoch 4/30\n",
            "9/9 [==============================] - ETA: 0s - loss: 0.6276 - accuracy: 0.8572\n",
            "Epoch 4: val_accuracy improved from 0.85667 to 0.85700, saving model to seq2seq_kor/weights.h5\n",
            "9/9 [==============================] - 24s 3s/step - loss: 0.6276 - accuracy: 0.8572 - val_loss: 0.5563 - val_accuracy: 0.8570\n",
            "Epoch 5/30\n",
            "9/9 [==============================] - ETA: 0s - loss: 0.5836 - accuracy: 0.8573\n",
            "Epoch 5: val_accuracy improved from 0.85700 to 0.85720, saving model to seq2seq_kor/weights.h5\n",
            "9/9 [==============================] - 23s 3s/step - loss: 0.5836 - accuracy: 0.8573 - val_loss: 0.5092 - val_accuracy: 0.8572\n",
            "Epoch 6/30\n",
            "9/9 [==============================] - ETA: 0s - loss: 0.5323 - accuracy: 0.8570\n",
            "Epoch 6: val_accuracy improved from 0.85720 to 0.85800, saving model to seq2seq_kor/weights.h5\n",
            "9/9 [==============================] - 23s 3s/step - loss: 0.5323 - accuracy: 0.8570 - val_loss: 0.4517 - val_accuracy: 0.8580\n",
            "Epoch 7/30\n",
            "9/9 [==============================] - ETA: 0s - loss: 0.4790 - accuracy: 0.8592\n",
            "Epoch 7: val_accuracy improved from 0.85800 to 0.86029, saving model to seq2seq_kor/weights.h5\n",
            "9/9 [==============================] - 23s 3s/step - loss: 0.4790 - accuracy: 0.8592 - val_loss: 0.4137 - val_accuracy: 0.8603\n",
            "Epoch 8/30\n",
            "9/9 [==============================] - ETA: 0s - loss: 0.4284 - accuracy: 0.8616\n",
            "Epoch 8: val_accuracy improved from 0.86029 to 0.86250, saving model to seq2seq_kor/weights.h5\n",
            "9/9 [==============================] - 24s 3s/step - loss: 0.4284 - accuracy: 0.8616 - val_loss: 0.3740 - val_accuracy: 0.8625\n",
            "Epoch 9/30\n",
            "9/9 [==============================] - ETA: 0s - loss: 0.3724 - accuracy: 0.8647\n",
            "Epoch 9: val_accuracy improved from 0.86250 to 0.86711, saving model to seq2seq_kor/weights.h5\n",
            "9/9 [==============================] - 23s 3s/step - loss: 0.3724 - accuracy: 0.8647 - val_loss: 0.3343 - val_accuracy: 0.8671\n",
            "Epoch 10/30\n",
            "9/9 [==============================] - ETA: 0s - loss: 0.3286 - accuracy: 0.8711\n",
            "Epoch 10: val_accuracy improved from 0.86711 to 0.87540, saving model to seq2seq_kor/weights.h5\n",
            "9/9 [==============================] - 24s 3s/step - loss: 0.3286 - accuracy: 0.8711 - val_loss: 0.2756 - val_accuracy: 0.8754\n",
            "Epoch 11/30\n",
            "9/9 [==============================] - ETA: 0s - loss: 0.2838 - accuracy: 0.8792\n",
            "Epoch 11: val_accuracy improved from 0.87540 to 0.88255, saving model to seq2seq_kor/weights.h5\n",
            "9/9 [==============================] - 24s 3s/step - loss: 0.2838 - accuracy: 0.8792 - val_loss: 0.2340 - val_accuracy: 0.8825\n",
            "Epoch 12/30\n",
            "9/9 [==============================] - ETA: 0s - loss: 0.2285 - accuracy: 0.8860\n",
            "Epoch 12: val_accuracy improved from 0.88255 to 0.88900, saving model to seq2seq_kor/weights.h5\n",
            "9/9 [==============================] - 24s 3s/step - loss: 0.2285 - accuracy: 0.8860 - val_loss: 0.1986 - val_accuracy: 0.8890\n",
            "Epoch 13/30\n",
            "9/9 [==============================] - ETA: 0s - loss: 0.1996 - accuracy: 0.8917\n",
            "Epoch 13: val_accuracy improved from 0.88900 to 0.89415, saving model to seq2seq_kor/weights.h5\n",
            "9/9 [==============================] - 24s 3s/step - loss: 0.1996 - accuracy: 0.8917 - val_loss: 0.2227 - val_accuracy: 0.8942\n",
            "Epoch 14/30\n",
            "9/9 [==============================] - ETA: 0s - loss: 0.1809 - accuracy: 0.8967\n",
            "Epoch 14: val_accuracy improved from 0.89415 to 0.89871, saving model to seq2seq_kor/weights.h5\n",
            "9/9 [==============================] - 23s 3s/step - loss: 0.1809 - accuracy: 0.8967 - val_loss: 0.1211 - val_accuracy: 0.8987\n",
            "Epoch 15/30\n",
            "9/9 [==============================] - ETA: 0s - loss: 0.1559 - accuracy: 0.9006\n",
            "Epoch 15: val_accuracy improved from 0.89871 to 0.90240, saving model to seq2seq_kor/weights.h5\n",
            "9/9 [==============================] - 23s 3s/step - loss: 0.1559 - accuracy: 0.9006 - val_loss: 0.1423 - val_accuracy: 0.9024\n",
            "Epoch 16/30\n",
            "9/9 [==============================] - ETA: 0s - loss: 0.1462 - accuracy: 0.9043\n",
            "Epoch 16: val_accuracy improved from 0.90240 to 0.90600, saving model to seq2seq_kor/weights.h5\n",
            "9/9 [==============================] - 23s 3s/step - loss: 0.1462 - accuracy: 0.9043 - val_loss: 0.1123 - val_accuracy: 0.9060\n",
            "Epoch 17/30\n",
            "9/9 [==============================] - ETA: 0s - loss: 0.1333 - accuracy: 0.9076\n",
            "Epoch 17: val_accuracy improved from 0.90600 to 0.90906, saving model to seq2seq_kor/weights.h5\n",
            "9/9 [==============================] - 24s 3s/step - loss: 0.1333 - accuracy: 0.9076 - val_loss: 0.1280 - val_accuracy: 0.9091\n",
            "Epoch 18/30\n",
            "9/9 [==============================] - ETA: 0s - loss: 0.1347 - accuracy: 0.9104\n",
            "Epoch 18: val_accuracy improved from 0.90906 to 0.91178, saving model to seq2seq_kor/weights.h5\n",
            "9/9 [==============================] - 23s 3s/step - loss: 0.1347 - accuracy: 0.9104 - val_loss: 0.1267 - val_accuracy: 0.9118\n",
            "Epoch 19/30\n",
            "9/9 [==============================] - ETA: 0s - loss: 0.1303 - accuracy: 0.9130\n",
            "Epoch 19: val_accuracy improved from 0.91178 to 0.91411, saving model to seq2seq_kor/weights.h5\n",
            "9/9 [==============================] - 23s 3s/step - loss: 0.1303 - accuracy: 0.9130 - val_loss: 0.1326 - val_accuracy: 0.9141\n",
            "Epoch 20/30\n",
            "9/9 [==============================] - ETA: 0s - loss: 0.1268 - accuracy: 0.9152\n",
            "Epoch 20: val_accuracy improved from 0.91411 to 0.91620, saving model to seq2seq_kor/weights.h5\n",
            "9/9 [==============================] - 24s 3s/step - loss: 0.1268 - accuracy: 0.9152 - val_loss: 0.1082 - val_accuracy: 0.9162\n",
            "Epoch 21/30\n",
            "9/9 [==============================] - ETA: 0s - loss: 0.1270 - accuracy: 0.9172\n",
            "Epoch 21: val_accuracy improved from 0.91620 to 0.91819, saving model to seq2seq_kor/weights.h5\n",
            "9/9 [==============================] - 25s 3s/step - loss: 0.1270 - accuracy: 0.9172 - val_loss: 0.1268 - val_accuracy: 0.9182\n",
            "Epoch 22/30\n",
            "9/9 [==============================] - ETA: 0s - loss: 0.1219 - accuracy: 0.9192\n",
            "Epoch 22: val_accuracy improved from 0.91819 to 0.92009, saving model to seq2seq_kor/weights.h5\n",
            "9/9 [==============================] - 24s 3s/step - loss: 0.1219 - accuracy: 0.9192 - val_loss: 0.1190 - val_accuracy: 0.9201\n",
            "Epoch 23/30\n",
            "9/9 [==============================] - ETA: 0s - loss: 0.1192 - accuracy: 0.9210\n",
            "Epoch 23: val_accuracy improved from 0.92009 to 0.92183, saving model to seq2seq_kor/weights.h5\n",
            "9/9 [==============================] - 24s 3s/step - loss: 0.1192 - accuracy: 0.9210 - val_loss: 0.1174 - val_accuracy: 0.9218\n",
            "Epoch 24/30\n",
            "9/9 [==============================] - ETA: 0s - loss: 0.1154 - accuracy: 0.9226\n",
            "Epoch 24: val_accuracy improved from 0.92183 to 0.92333, saving model to seq2seq_kor/weights.h5\n",
            "9/9 [==============================] - 24s 3s/step - loss: 0.1154 - accuracy: 0.9226 - val_loss: 0.1150 - val_accuracy: 0.9233\n",
            "Epoch 25/30\n",
            "9/9 [==============================] - ETA: 0s - loss: 0.1066 - accuracy: 0.9240\n",
            "Epoch 25: val_accuracy improved from 0.92333 to 0.92472, saving model to seq2seq_kor/weights.h5\n",
            "9/9 [==============================] - 24s 3s/step - loss: 0.1066 - accuracy: 0.9240 - val_loss: 0.1076 - val_accuracy: 0.9247\n",
            "Epoch 26/30\n",
            "9/9 [==============================] - ETA: 0s - loss: 0.1015 - accuracy: 0.9253\n",
            "Epoch 26: val_accuracy improved from 0.92472 to 0.92592, saving model to seq2seq_kor/weights.h5\n",
            "9/9 [==============================] - 24s 3s/step - loss: 0.1015 - accuracy: 0.9253 - val_loss: 0.1100 - val_accuracy: 0.9259\n",
            "Epoch 27/30\n",
            "9/9 [==============================] - ETA: 0s - loss: 0.0913 - accuracy: 0.9265\n",
            "Epoch 27: val_accuracy improved from 0.92592 to 0.92711, saving model to seq2seq_kor/weights.h5\n",
            "9/9 [==============================] - 24s 3s/step - loss: 0.0913 - accuracy: 0.9265 - val_loss: 0.1091 - val_accuracy: 0.9271\n",
            "Epoch 28/30\n",
            "9/9 [==============================] - ETA: 0s - loss: 0.0865 - accuracy: 0.9279\n",
            "Epoch 28: val_accuracy improved from 0.92711 to 0.92864, saving model to seq2seq_kor/weights.h5\n",
            "9/9 [==============================] - 24s 3s/step - loss: 0.0865 - accuracy: 0.9279 - val_loss: 0.1142 - val_accuracy: 0.9286\n",
            "Epoch 29/30\n",
            "9/9 [==============================] - ETA: 0s - loss: 0.0658 - accuracy: 0.9294\n",
            "Epoch 29: val_accuracy improved from 0.92864 to 0.93028, saving model to seq2seq_kor/weights.h5\n",
            "9/9 [==============================] - 23s 3s/step - loss: 0.0658 - accuracy: 0.9294 - val_loss: 0.1235 - val_accuracy: 0.9303\n",
            "Epoch 30/30\n",
            "9/9 [==============================] - ETA: 0s - loss: 0.0474 - accuracy: 0.9313\n",
            "Epoch 30: val_accuracy improved from 0.93028 to 0.93213, saving model to seq2seq_kor/weights.h5\n",
            "9/9 [==============================] - 25s 3s/step - loss: 0.0474 - accuracy: 0.9313 - val_loss: 0.1345 - val_accuracy: 0.9321\n"
          ]
        }
      ]
    },
    {
      "cell_type": "code",
      "source": [
        "plot_graphs(history, 'accuracy')"
      ],
      "metadata": {
        "colab": {
          "base_uri": "https://localhost:8080/",
          "height": 279
        },
        "id": "lC5UP_nbOq6I",
        "outputId": "a83d6f0d-9998-4305-a7b8-5fb4f6551d14"
      },
      "execution_count": null,
      "outputs": [
        {
          "output_type": "display_data",
          "data": {
            "text/plain": [
              "<Figure size 432x288 with 1 Axes>"
            ],
            "image/png": "[encoded data removed]"
          },
          "metadata": {
            "needs_background": "light"
          }
        }
      ]
    },
    {
      "cell_type": "code",
      "source": [
        "plot_graphs(history, 'loss')"
      ],
      "metadata": {
        "colab": {
          "base_uri": "https://localhost:8080/",
          "height": 279
        },
        "id": "ZaDYf6ZNOvmM",
        "outputId": "16a0948b-87de-4f3c-8e76-c57f66446799"
      },
      "execution_count": null,
      "outputs": [
        {
          "output_type": "display_data",
          "data": {
            "text/plain": [
              "<Figure size 432x288 with 1 Axes>"
            ],
            "image/png": "[encoded data removed]"
          },
          "metadata": {
            "needs_background": "light"
          }
        }
      ]
    },
    {
      "cell_type": "code",
      "source": [
        "SAVE_FILE_NM = \"weights.h5\"\n",
        "model.load_weights(os.path.join(DATA_OUT_PATH, MODEL_NAME, SAVE_FILE_NM))"
      ],
      "metadata": {
        "id": "9Yl60hPpOzuA"
      },
      "execution_count": null,
      "outputs": []
    },
    {
      "cell_type": "code",
      "source": [
        "query = \"친구 승진 선물로 뭐가 좋을까?\"\n",
        "\n",
        "test_index_inputs, _ = enc_processing([query], char2idx)    \n",
        "print(test_index_inputs)\n",
        "predict_tokens = model.inference(test_index_inputs)\n",
        "print(predict_tokens)\n",
        "\n",
        "print(' '.join([idx2char[str(t)] for t in predict_tokens]))"
      ],
      "metadata": {
        "colab": {
          "base_uri": "https://localhost:8080/"
        },
        "id": "0p54qouwO40E",
        "outputId": "ded0a2cb-6aae-4c3f-8e0f-3a059ac37c1f"
      },
      "execution_count": null,
      "outputs": [
        {
          "output_type": "stream",
          "name": "stdout",
          "text": [
            "[[  3  54  89 100  66   0   0   0   0   0   0   0   0   0   0   0   0   0\n",
            "    0   0   0   0   0   0   0]]\n",
            "[ 47 104  14  93]\n",
            "평소에 필요한 것 생각해보세요\n"
          ]
        }
      ]
    },
    {
      "cell_type": "code",
      "source": [
        "import tensorflow as tf\n",
        "import numpy as np\n",
        "\n",
        "from konlpy.tag import Twitter\n",
        "import pandas as pd\n",
        "import tensorflow as tf\n",
        "import enum\n",
        "import os\n",
        "import re\n",
        "import json\n",
        "from sklearn.model_selection import train_test_split\n",
        "\n",
        "from tensorflow.keras.callbacks import EarlyStopping, ModelCheckpoint\n",
        "import matplotlib.pyplot as plt\n",
        "\n",
        "from preprocess import *"
      ],
      "metadata": {
        "id": "3n7Ql9iqPatU"
      },
      "execution_count": null,
      "outputs": []
    },
    {
      "cell_type": "code",
      "source": [
        "def plot_graphs(history, string):\n",
        "    plt.plot(history.history[string])\n",
        "    plt.plot(history.history['val_'+string], '')\n",
        "    plt.xlabel(\"Epochs\")\n",
        "    plt.ylabel(string)\n",
        "    plt.legend([string, 'val_'+string])\n",
        "    plt.show()"
      ],
      "metadata": {
        "id": "S0poDVibPc52"
      },
      "execution_count": null,
      "outputs": []
    },
    {
      "cell_type": "code",
      "source": [
        "DATA_IN_PATH = '/gdrive/My Drive/data_out/'\n",
        "DATA_OUT_PATH = ''\n",
        "TRAIN_INPUTS = 'train_inputs.npy'\n",
        "TRAIN_OUTPUTS = 'train_outputs.npy'\n",
        "TRAIN_TARGETS = 'train_targets.npy'\n",
        "DATA_CONFIGS = 'data_configs.json'"
      ],
      "metadata": {
        "id": "IU3nDilZPgiM"
      },
      "execution_count": null,
      "outputs": []
    },
    {
      "cell_type": "code",
      "source": [
        "SEED_NUM = 1234\n",
        "tf.random.set_seed(SEED_NUM)"
      ],
      "metadata": {
        "id": "cWWab7ovPnKA"
      },
      "execution_count": null,
      "outputs": []
    },
    {
      "cell_type": "code",
      "source": [
        "index_inputs = np.load(open(DATA_IN_PATH + TRAIN_INPUTS, 'rb'))\n",
        "index_outputs = np.load(open(DATA_IN_PATH + TRAIN_OUTPUTS , 'rb'))\n",
        "index_targets = np.load(open(DATA_IN_PATH + TRAIN_TARGETS , 'rb'))\n",
        "prepro_configs = json.load(open(DATA_IN_PATH + DATA_CONFIGS, 'r'))"
      ],
      "metadata": {
        "id": "Uu0XgXZFPr1U"
      },
      "execution_count": null,
      "outputs": []
    },
    {
      "cell_type": "code",
      "source": [
        "char2idx = prepro_configs['char2idx']\n",
        "end_index = prepro_configs['end_symbol']\n",
        "model_name = 'transformer'\n",
        "vocab_size = prepro_configs['vocab_size']\n",
        "BATCH_SIZE = 2\n",
        "MAX_SEQUENCE = 25\n",
        "EPOCHS = 30\n",
        "VALID_SPLIT = 0.1\n",
        "\n",
        "kargs = {'model_name': model_name,\n",
        "         'num_layers': 2,\n",
        "         'd_model': 512,\n",
        "         'num_heads': 8,\n",
        "         'dff': 2048,\n",
        "         'input_vocab_size': vocab_size,\n",
        "         'target_vocab_size': vocab_size,\n",
        "         'maximum_position_encoding': MAX_SEQUENCE,\n",
        "         'end_token_idx': char2idx[end_index],\n",
        "         'rate': 0.1\n",
        "        }"
      ],
      "metadata": {
        "id": "PaHEPY7mPwGN"
      },
      "execution_count": null,
      "outputs": []
    },
    {
      "cell_type": "code",
      "source": [
        "def create_padding_mask(seq):\n",
        "    seq = tf.cast(tf.math.equal(seq, 0), tf.float32)\n",
        "\n",
        "    # add extra dimensions to add the padding\n",
        "    # to the attention logits.\n",
        "    return seq[:, tf.newaxis, tf.newaxis, :]  # (batch_size, 1, 1, seq_len)\n",
        "def create_look_ahead_mask(size):\n",
        "    mask = 1 - tf.linalg.band_part(tf.ones((size, size)), -1, 0)\n",
        "    return mask  # (seq_len, seq_len)\n",
        "def create_masks(inp, tar):\n",
        "    # Encoder padding mask\n",
        "    enc_padding_mask = create_padding_mask(inp)\n",
        "\n",
        "    # Used in the 2nd attention block in the decoder.\n",
        "    # This padding mask is used to mask the encoder outputs.\n",
        "    dec_padding_mask = create_padding_mask(inp)\n",
        "\n",
        "    # Used in the 1st attention block in the decoder.\n",
        "    # It is used to pad and mask future tokens in the input received by \n",
        "    # the decoder.\n",
        "    look_ahead_mask = create_look_ahead_mask(tf.shape(tar)[1])\n",
        "    dec_target_padding_mask = create_padding_mask(tar)\n",
        "    combined_mask = tf.maximum(dec_target_padding_mask, look_ahead_mask)\n",
        "\n",
        "    return enc_padding_mask, combined_mask, dec_padding_mask\n",
        "enc_padding_mask, look_ahead_mask, dec_padding_mask = create_masks(index_inputs, index_outputs)"
      ],
      "metadata": {
        "id": "RuEqgHmsP2W4"
      },
      "execution_count": null,
      "outputs": []
    },
    {
      "cell_type": "code",
      "source": [
        "def get_angles(pos, i, d_model):\n",
        "    angle_rates = 1 / np.power(10000, (2 * i//2) / np.float32(d_model))\n",
        "    return pos * angle_rates\n",
        "def positional_encoding(position, d_model):\n",
        "    angle_rads = get_angles(np.arange(position)[:, np.newaxis],\n",
        "                          np.arange(d_model)[np.newaxis, :],\n",
        "                          d_model)\n",
        "\n",
        "    # apply sin to even indices in the array; 2i\n",
        "    angle_rads[:, 0::2] = np.sin(angle_rads[:, 0::2])\n",
        "\n",
        "    # apply cos to odd indices in the array; 2i+1\n",
        "    angle_rads[:, 1::2] = np.cos(angle_rads[:, 1::2])\n",
        "\n",
        "    pos_encoding = angle_rads[np.newaxis, ...]\n",
        "\n",
        "    return tf.cast(pos_encoding, dtype=tf.float32)\n",
        "pos_encoding = positional_encoding(50, 512)\n",
        "print (pos_encoding.shape)\n",
        "\n",
        "plt.pcolormesh(pos_encoding[0], cmap='RdBu')\n",
        "plt.xlabel('Depth')\n",
        "plt.xlim((0, 512))\n",
        "plt.ylabel('Position')\n",
        "plt.colorbar()\n",
        "plt.show()"
      ],
      "metadata": {
        "colab": {
          "base_uri": "https://localhost:8080/",
          "height": 301
        },
        "id": "pg8oNqIyP8oq",
        "outputId": "b52a7eac-d6d8-4857-ea94-0171336801d4"
      },
      "execution_count": null,
      "outputs": [
        {
          "output_type": "stream",
          "name": "stdout",
          "text": [
            "(1, 50, 512)\n"
          ]
        },
        {
          "output_type": "display_data",
          "data": {
            "text/plain": [
              "<Figure size 432x288 with 2 Axes>"
            ],
            "image/png": "[encoded data removed]"
          },
          "metadata": {
            "needs_background": "light"
          }
        }
      ]
    },
    {
      "cell_type": "code",
      "source": [
        "def scaled_dot_product_attention(q, k, v, mask):\n",
        "    \"\"\"Calculate the attention weights.\n",
        "    q, k, v must have matching leading dimensions.\n",
        "    k, v must have matching penultimate dimension, i.e.: seq_len_k = seq_len_v.\n",
        "    The mask has different shapes depending on its type(padding or look ahead) \n",
        "    but it must be broadcastable for addition.\n",
        "\n",
        "    Args:\n",
        "    q: query shape == (..., seq_len_q, depth)\n",
        "    k: key shape == (..., seq_len_k, depth)\n",
        "    v: value shape == (..., seq_len_v, depth_v)\n",
        "    mask: Float tensor with shape broadcastable \n",
        "          to (..., seq_len_q, seq_len_k). Defaults to None.\n",
        "\n",
        "    Returns:\n",
        "    output, attention_weights\n",
        "    \"\"\"\n",
        "\n",
        "    matmul_qk = tf.matmul(q, k, transpose_b=True)  # (..., seq_len_q, seq_len_k)\n",
        "\n",
        "    # scale matmul_qk\n",
        "    dk = tf.cast(tf.shape(k)[-1], tf.float32)\n",
        "    scaled_attention_logits = matmul_qk / tf.math.sqrt(dk)\n",
        "\n",
        "    # add the mask to the scaled tensor.\n",
        "    if mask is not None:\n",
        "        scaled_attention_logits += (mask * -1e9)  \n",
        "\n",
        "    # softmax is normalized on the last axis (seq_len_k) so that the scores\n",
        "    # add up to 1.\n",
        "    attention_weights = tf.nn.softmax(scaled_attention_logits, axis=-1)  # (..., seq_len_q, seq_len_k)\n",
        "\n",
        "    output = tf.matmul(attention_weights, v)  # (..., seq_len_q, depth_v)\n",
        "\n",
        "    return output, attention_weights"
      ],
      "metadata": {
        "id": "vjS1Vrl8QBG5"
      },
      "execution_count": null,
      "outputs": []
    },
    {
      "cell_type": "code",
      "source": [
        "class MultiHeadAttention(tf.keras.layers.Layer):\n",
        "    def __init__(self, **kargs):\n",
        "        super(MultiHeadAttention, self).__init__()\n",
        "        self.num_heads = kargs['num_heads']\n",
        "        self.d_model = kargs['d_model']\n",
        "\n",
        "        assert self.d_model % self.num_heads == 0\n",
        "\n",
        "        self.depth = self.d_model // self.num_heads\n",
        "\n",
        "        self.wq = tf.keras.layers.Dense(kargs['d_model'])\n",
        "        self.wk = tf.keras.layers.Dense(kargs['d_model'])\n",
        "        self.wv = tf.keras.layers.Dense(kargs['d_model'])\n",
        "\n",
        "        self.dense = tf.keras.layers.Dense(kargs['d_model'])\n",
        "\n",
        "    def split_heads(self, x, batch_size):\n",
        "        \"\"\"Split the last dimension into (num_heads, depth).\n",
        "        Transpose the result such that the shape is (batch_size, num_heads, seq_len, depth)\n",
        "        \"\"\"\n",
        "        x = tf.reshape(x, (batch_size, -1, self.num_heads, self.depth))\n",
        "        return tf.transpose(x, perm=[0, 2, 1, 3])\n",
        "\n",
        "    def call(self, v, k, q, mask):\n",
        "        batch_size = tf.shape(q)[0]\n",
        "\n",
        "        q = self.wq(q)  # (batch_size, seq_len, d_model)\n",
        "        k = self.wk(k)  # (batch_size, seq_len, d_model)\n",
        "        v = self.wv(v)  # (batch_size, seq_len, d_model)\n",
        "\n",
        "        q = self.split_heads(q, batch_size)  # (batch_size, num_heads, seq_len_q, depth)\n",
        "        k = self.split_heads(k, batch_size)  # (batch_size, num_heads, seq_len_k, depth)\n",
        "        v = self.split_heads(v, batch_size)  # (batch_size, num_heads, seq_len_v, depth)\n",
        "\n",
        "        # scaled_attention.shape == (batch_size, num_heads, seq_len_q, depth)\n",
        "        # attention_weights.shape == (batch_size, num_heads, seq_len_q, seq_len_k)\n",
        "        scaled_attention, attention_weights = scaled_dot_product_attention(\n",
        "            q, k, v, mask)\n",
        "\n",
        "        scaled_attention = tf.transpose(scaled_attention, perm=[0, 2, 1, 3])  # (batch_size, seq_len_q, num_heads, depth)\n",
        "\n",
        "        concat_attention = tf.reshape(scaled_attention, \n",
        "                                      (batch_size, -1, self.d_model))  # (batch_size, seq_len_q, d_model)\n",
        "\n",
        "        output = self.dense(concat_attention)  # (batch_size, seq_len_q, d_model)\n",
        "\n",
        "        return output, attention_weights"
      ],
      "metadata": {
        "id": "hamWdHdJQGva"
      },
      "execution_count": null,
      "outputs": []
    },
    {
      "cell_type": "code",
      "source": [
        "def point_wise_feed_forward_network(**kargs):\n",
        "    return tf.keras.Sequential([\n",
        "      tf.keras.layers.Dense(kargs['dff'], activation='relu'),  # (batch_size, seq_len, dff)\n",
        "      tf.keras.layers.Dense(kargs['d_model'])  # (batch_size, seq_len, d_model)\n",
        "    ])"
      ],
      "metadata": {
        "id": "fazKgP5zQLHM"
      },
      "execution_count": null,
      "outputs": []
    },
    {
      "cell_type": "code",
      "source": [
        "class EncoderLayer(tf.keras.layers.Layer):\n",
        "    def __init__(self, **kargs):\n",
        "        super(EncoderLayer, self).__init__()\n",
        "\n",
        "        self.mha = MultiHeadAttention(**kargs)\n",
        "        self.ffn = point_wise_feed_forward_network(**kargs)\n",
        "\n",
        "        self.layernorm1 = tf.keras.layers.LayerNormalization(epsilon=1e-6)\n",
        "        self.layernorm2 = tf.keras.layers.LayerNormalization(epsilon=1e-6)\n",
        "\n",
        "        self.dropout1 = tf.keras.layers.Dropout(kargs['rate'])\n",
        "        self.dropout2 = tf.keras.layers.Dropout(kargs['rate'])\n",
        "\n",
        "    def call(self, x, mask):\n",
        "        attn_output, _ = self.mha(x, x, x, mask)  # (batch_size, input_seq_len, d_model)\n",
        "        attn_output = self.dropout1(attn_output)\n",
        "        out1 = self.layernorm1(x + attn_output)  # (batch_size, input_seq_len, d_model)\n",
        "\n",
        "        ffn_output = self.ffn(out1)  # (batch_size, input_seq_len, d_model)\n",
        "        ffn_output = self.dropout2(ffn_output)\n",
        "        out2 = self.layernorm2(out1 + ffn_output)  # (batch_size, input_seq_len, d_model)\n",
        "\n",
        "        return out2"
      ],
      "metadata": {
        "id": "cM9bxaDmQQb0"
      },
      "execution_count": null,
      "outputs": []
    },
    {
      "cell_type": "code",
      "source": [
        "class DecoderLayer(tf.keras.layers.Layer):\n",
        "    def __init__(self, **kargs):\n",
        "        super(DecoderLayer, self).__init__()\n",
        "\n",
        "        self.mha1 = MultiHeadAttention(**kargs)\n",
        "        self.mha2 = MultiHeadAttention(**kargs)\n",
        "\n",
        "        self.ffn = point_wise_feed_forward_network(**kargs)\n",
        "\n",
        "        self.layernorm1 = tf.keras.layers.LayerNormalization(epsilon=1e-6)\n",
        "        self.layernorm2 = tf.keras.layers.LayerNormalization(epsilon=1e-6)\n",
        "        self.layernorm3 = tf.keras.layers.LayerNormalization(epsilon=1e-6)\n",
        "\n",
        "        self.dropout1 = tf.keras.layers.Dropout(kargs['rate'])\n",
        "        self.dropout2 = tf.keras.layers.Dropout(kargs['rate'])\n",
        "        self.dropout3 = tf.keras.layers.Dropout(kargs['rate'])\n",
        "    \n",
        "    \n",
        "    def call(self, x, enc_output, look_ahead_mask, padding_mask):\n",
        "        # enc_output.shape == (batch_size, input_seq_len, d_model)\n",
        "        attn1, attn_weights_block1 = self.mha1(x, x, x, look_ahead_mask)  # (batch_size, target_seq_len, d_model)\n",
        "        attn1 = self.dropout1(attn1)\n",
        "        out1 = self.layernorm1(attn1 + x)\n",
        "\n",
        "        attn2, attn_weights_block2 = self.mha2(\n",
        "            enc_output, enc_output, out1, padding_mask)  # (batch_size, target_seq_len, d_model)\n",
        "        attn2 = self.dropout2(attn2)\n",
        "        out2 = self.layernorm2(attn2 + out1)  # (batch_size, target_seq_len, d_model)\n",
        "\n",
        "        ffn_output = self.ffn(out2)  # (batch_size, target_seq_len, d_model)\n",
        "        ffn_output = self.dropout3(ffn_output)\n",
        "        out3 = self.layernorm3(ffn_output + out2)  # (batch_size, target_seq_len, d_model)\n",
        "\n",
        "        return out3, attn_weights_block1, attn_weights_block2"
      ],
      "metadata": {
        "id": "7hafLqa_QWgq"
      },
      "execution_count": null,
      "outputs": []
    },
    {
      "cell_type": "code",
      "source": [
        "class Encoder(tf.keras.layers.Layer):\n",
        "    def __init__(self, **kargs):\n",
        "        super(Encoder, self).__init__()\n",
        "\n",
        "        self.d_model = kargs['d_model']\n",
        "        self.num_layers = kargs['num_layers']\n",
        "\n",
        "        self.embedding = tf.keras.layers.Embedding(kargs['input_vocab_size'], self.d_model)\n",
        "        self.pos_encoding = positional_encoding(kargs['maximum_position_encoding'], \n",
        "                                                self.d_model)\n",
        "\n",
        "\n",
        "        self.enc_layers = [EncoderLayer(**kargs) \n",
        "                           for _ in range(self.num_layers)]\n",
        "\n",
        "        self.dropout = tf.keras.layers.Dropout(kargs['rate'])\n",
        "\n",
        "    def call(self, x, mask):\n",
        "\n",
        "        seq_len = tf.shape(x)[1]\n",
        "\n",
        "        # adding embedding and position encoding.\n",
        "        x = self.embedding(x)  # (batch_size, input_seq_len, d_model)\n",
        "        x *= tf.math.sqrt(tf.cast(self.d_model, tf.float32))\n",
        "        x += self.pos_encoding[:, :seq_len, :]\n",
        "\n",
        "        x = self.dropout(x)\n",
        "\n",
        "        for i in range(self.num_layers):\n",
        "            x = self.enc_layers[i](x, mask)\n",
        "\n",
        "        return x  # (batch_size, input_seq_len, d_model)"
      ],
      "metadata": {
        "id": "w61KmMZMQYDm"
      },
      "execution_count": null,
      "outputs": []
    },
    {
      "cell_type": "code",
      "source": [
        "class Decoder(tf.keras.layers.Layer):\n",
        "    def __init__(self, **kargs):\n",
        "        super(Decoder, self).__init__()\n",
        "\n",
        "        self.d_model = kargs['d_model']\n",
        "        self.num_layers = kargs['num_layers']\n",
        "\n",
        "        self.embedding = tf.keras.layers.Embedding(kargs['target_vocab_size'], self.d_model)\n",
        "        self.pos_encoding = positional_encoding(kargs['maximum_position_encoding'], self.d_model)\n",
        "\n",
        "        self.dec_layers = [DecoderLayer(**kargs) \n",
        "                           for _ in range(self.num_layers)]\n",
        "        self.dropout = tf.keras.layers.Dropout(kargs['rate'])\n",
        "\n",
        "    def call(self, x, enc_output, look_ahead_mask, padding_mask):\n",
        "        seq_len = tf.shape(x)[1]\n",
        "        attention_weights = {}\n",
        "\n",
        "        x = self.embedding(x)  # (batch_size, target_seq_len, d_model)\n",
        "        x *= tf.math.sqrt(tf.cast(self.d_model, tf.float32))\n",
        "        x += self.pos_encoding[:, :seq_len, :]\n",
        "\n",
        "        x = self.dropout(x)\n",
        "\n",
        "        for i in range(self.num_layers):\n",
        "            x, block1, block2 = self.dec_layers[i](x, enc_output, look_ahead_mask, padding_mask)\n",
        "\n",
        "            attention_weights['decoder_layer{}_block1'.format(i+1)] = block1\n",
        "            attention_weights['decoder_layer{}_block2'.format(i+1)] = block2\n",
        "\n",
        "        # x.shape == (batch_size, target_seq_len, d_model)\n",
        "        return x, attention_weights"
      ],
      "metadata": {
        "id": "MliLQK8yQc-2"
      },
      "execution_count": null,
      "outputs": []
    },
    {
      "cell_type": "code",
      "source": [
        "class Transformer(tf.keras.Model):\n",
        "    def __init__(self, **kargs):\n",
        "        super(Transformer, self).__init__(name=kargs['model_name'])\n",
        "        self.end_token_idx = kargs['end_token_idx']\n",
        "        \n",
        "        self.encoder = Encoder(**kargs)\n",
        "        self.decoder = Decoder(**kargs)\n",
        "\n",
        "        self.final_layer = tf.keras.layers.Dense(kargs['target_vocab_size'])\n",
        "\n",
        "    def call(self, x):\n",
        "        inp, tar = x\n",
        "\n",
        "        enc_padding_mask, look_ahead_mask, dec_padding_mask = create_masks(inp, tar)\n",
        "        enc_output = self.encoder(inp, enc_padding_mask)  # (batch_size, inp_seq_len, d_model)\n",
        "\n",
        "        # dec_output.shape == (batch_size, tar_seq_len, d_model)\n",
        "        dec_output, _ = self.decoder(\n",
        "            tar, enc_output, look_ahead_mask, dec_padding_mask)\n",
        "\n",
        "        final_output = self.final_layer(dec_output)  # (batch_size, tar_seq_len, target_vocab_size)\n",
        "\n",
        "        return final_output\n",
        "    \n",
        "    def inference(self, x):\n",
        "        inp = x\n",
        "        tar = tf.expand_dims([STD_INDEX], 0)\n",
        "\n",
        "        enc_padding_mask, look_ahead_mask, dec_padding_mask = create_masks(inp, tar)        \n",
        "        enc_output = self.encoder(inp, enc_padding_mask)\n",
        "        \n",
        "        predict_tokens = list()\n",
        "        for t in range(0, MAX_SEQUENCE):\n",
        "            dec_output, _ = self.decoder(tar, enc_output, look_ahead_mask, dec_padding_mask)\n",
        "            final_output = self.final_layer(dec_output)\n",
        "            outputs = tf.argmax(final_output, -1).numpy()\n",
        "            pred_token = outputs[0][-1]\n",
        "            if pred_token == self.end_token_idx:\n",
        "                break\n",
        "            predict_tokens.append(pred_token)\n",
        "            tar = tf.expand_dims([STD_INDEX] + predict_tokens, 0)\n",
        "            _, look_ahead_mask, dec_padding_mask = create_masks(inp, tar)\n",
        "            \n",
        "        return predict_tokens"
      ],
      "metadata": {
        "id": "GDzPb80mQhXi"
      },
      "execution_count": null,
      "outputs": []
    },
    {
      "cell_type": "code",
      "source": [
        "loss_object = tf.keras.losses.SparseCategoricalCrossentropy(\n",
        "    from_logits=True, reduction='none')\n",
        "\n",
        "train_accuracy = tf.keras.metrics.SparseCategoricalAccuracy(name='accuracy')\n",
        "\n",
        "def loss(real, pred):\n",
        "    mask = tf.math.logical_not(tf.math.equal(real, 0))\n",
        "    loss_ = loss_object(real, pred)\n",
        "\n",
        "    mask = tf.cast(mask, dtype=loss_.dtype)\n",
        "    loss_ *= mask\n",
        "\n",
        "    return tf.reduce_mean(loss_)\n",
        "\n",
        "def accuracy(real, pred):\n",
        "    mask = tf.math.logical_not(tf.math.equal(real, 0))\n",
        "    mask = tf.expand_dims(tf.cast(mask, dtype=pred.dtype), axis=-1)\n",
        "    pred *= mask    \n",
        "    acc = train_accuracy(real, pred)\n",
        "\n",
        "    return tf.reduce_mean(acc)\n",
        "model = Transformer(**kargs)\n",
        "model.compile(optimizer=tf.keras.optimizers.Adam(1e-4),\n",
        "              loss=loss,\n",
        "              metrics=[accuracy])"
      ],
      "metadata": {
        "id": "MVSjo1fwQuFe"
      },
      "execution_count": null,
      "outputs": []
    },
    {
      "cell_type": "code",
      "source": [
        "# overfitting을 막기 위한 ealrystop 추가\n",
        "earlystop_callback = EarlyStopping(monitor='val_accuracy', min_delta=0.0001, patience=10)\n",
        "# min_delta: the threshold that triggers the termination (acc should at least improve 0.0001)\n",
        "# patience: no improvment epochs (patience = 1, 1번 이상 상승이 없으면 종료)\n",
        "\n",
        "checkpoint_path = DATA_OUT_PATH + model_name + '/weights.h5'\n",
        "checkpoint_dir = os.path.dirname(checkpoint_path)\n",
        "\n",
        "# Create path if exists\n",
        "if os.path.exists(checkpoint_dir):\n",
        "    print(\"{} -- Folder already exists \\n\".format(checkpoint_dir))\n",
        "else:\n",
        "    os.makedirs(checkpoint_dir, exist_ok=True)\n",
        "    print(\"{} -- Folder create complete \\n\".format(checkpoint_dir))\n",
        "    \n",
        "\n",
        "cp_callback = ModelCheckpoint(\n",
        "    checkpoint_path, monitor='val_accuracy', verbose=1, save_best_only=True, save_weights_only=True)"
      ],
      "metadata": {
        "colab": {
          "base_uri": "https://localhost:8080/"
        },
        "id": "jejaG1PlQvhu",
        "outputId": "f8fe4299-b303-442f-97c3-29a4b39232f5"
      },
      "execution_count": null,
      "outputs": [
        {
          "output_type": "stream",
          "name": "stdout",
          "text": [
            "transformer -- Folder create complete \n",
            "\n"
          ]
        }
      ]
    },
    {
      "cell_type": "code",
      "source": [
        "history = model.fit([index_inputs, index_outputs], index_targets, \n",
        "                    batch_size=BATCH_SIZE, epochs=EPOCHS,\n",
        "                    validation_split=VALID_SPLIT, callbacks=[earlystop_callback, cp_callback])"
      ],
      "metadata": {
        "colab": {
          "base_uri": "https://localhost:8080/"
        },
        "id": "eouWiQxkQzdd",
        "outputId": "92a324aa-44c3-407a-ad55-637f865873dd"
      },
      "execution_count": null,
      "outputs": [
        {
          "output_type": "stream",
          "name": "stdout",
          "text": [
            "Epoch 1/30\n",
            "9/9 [==============================] - ETA: 0s - loss: 0.9404 - accuracy: 0.8304\n",
            "Epoch 1: val_accuracy improved from -inf to 0.84800, saving model to transformer/weights.h5\n",
            "9/9 [==============================] - 9s 364ms/step - loss: 0.9404 - accuracy: 0.8304 - val_loss: 0.5318 - val_accuracy: 0.8480\n",
            "Epoch 2/30\n",
            "9/9 [==============================] - ETA: 0s - loss: 0.6900 - accuracy: 0.8491\n",
            "Epoch 2: val_accuracy improved from 0.84800 to 0.85200, saving model to transformer/weights.h5\n",
            "9/9 [==============================] - 2s 236ms/step - loss: 0.6900 - accuracy: 0.8491 - val_loss: 0.6716 - val_accuracy: 0.8520\n",
            "Epoch 3/30\n",
            "9/9 [==============================] - ETA: 0s - loss: 0.5822 - accuracy: 0.8548\n",
            "Epoch 3: val_accuracy improved from 0.85200 to 0.85733, saving model to transformer/weights.h5\n",
            "9/9 [==============================] - 2s 247ms/step - loss: 0.5822 - accuracy: 0.8548 - val_loss: 0.5481 - val_accuracy: 0.8573\n",
            "Epoch 4/30\n",
            "9/9 [==============================] - ETA: 0s - loss: 0.3764 - accuracy: 0.8626\n",
            "Epoch 4: val_accuracy improved from 0.85733 to 0.86750, saving model to transformer/weights.h5\n",
            "9/9 [==============================] - 2s 237ms/step - loss: 0.3764 - accuracy: 0.8626 - val_loss: 0.5529 - val_accuracy: 0.8675\n",
            "Epoch 5/30\n",
            "9/9 [==============================] - ETA: 0s - loss: 0.2133 - accuracy: 0.8756\n",
            "Epoch 5: val_accuracy improved from 0.86750 to 0.88120, saving model to transformer/weights.h5\n",
            "9/9 [==============================] - 2s 237ms/step - loss: 0.2133 - accuracy: 0.8756 - val_loss: 0.5828 - val_accuracy: 0.8812\n",
            "Epoch 6/30\n",
            "9/9 [==============================] - ETA: 0s - loss: 0.1578 - accuracy: 0.8872\n",
            "Epoch 6: val_accuracy improved from 0.88120 to 0.89200, saving model to transformer/weights.h5\n",
            "9/9 [==============================] - 2s 240ms/step - loss: 0.1578 - accuracy: 0.8872 - val_loss: 0.5872 - val_accuracy: 0.8920\n",
            "Epoch 7/30\n",
            "9/9 [==============================] - ETA: 0s - loss: 0.1664 - accuracy: 0.8966\n",
            "Epoch 7: val_accuracy improved from 0.89200 to 0.89971, saving model to transformer/weights.h5\n",
            "9/9 [==============================] - 2s 241ms/step - loss: 0.1664 - accuracy: 0.8966 - val_loss: 0.5179 - val_accuracy: 0.8997\n",
            "Epoch 8/30\n",
            "9/9 [==============================] - ETA: 0s - loss: 0.1524 - accuracy: 0.9036\n",
            "Epoch 8: val_accuracy improved from 0.89971 to 0.90625, saving model to transformer/weights.h5\n",
            "9/9 [==============================] - 2s 236ms/step - loss: 0.1524 - accuracy: 0.9036 - val_loss: 0.5337 - val_accuracy: 0.9062\n",
            "Epoch 9/30\n",
            "9/9 [==============================] - ETA: 0s - loss: 0.1130 - accuracy: 0.9099\n",
            "Epoch 9: val_accuracy improved from 0.90625 to 0.91267, saving model to transformer/weights.h5\n",
            "9/9 [==============================] - 2s 241ms/step - loss: 0.1130 - accuracy: 0.9099 - val_loss: 0.4678 - val_accuracy: 0.9127\n",
            "Epoch 10/30\n",
            "9/9 [==============================] - ETA: 0s - loss: 0.0666 - accuracy: 0.9166\n",
            "Epoch 10: val_accuracy improved from 0.91267 to 0.91960, saving model to transformer/weights.h5\n",
            "9/9 [==============================] - 2s 267ms/step - loss: 0.0666 - accuracy: 0.9166 - val_loss: 0.3445 - val_accuracy: 0.9196\n",
            "Epoch 11/30\n",
            "9/9 [==============================] - ETA: 0s - loss: 0.0437 - accuracy: 0.9229\n",
            "Epoch 11: val_accuracy improved from 0.91960 to 0.92545, saving model to transformer/weights.h5\n",
            "9/9 [==============================] - 2s 233ms/step - loss: 0.0437 - accuracy: 0.9229 - val_loss: 0.2770 - val_accuracy: 0.9255\n",
            "Epoch 12/30\n",
            "9/9 [==============================] - ETA: 0s - loss: 0.0245 - accuracy: 0.9283\n",
            "Epoch 12: val_accuracy improved from 0.92545 to 0.93067, saving model to transformer/weights.h5\n",
            "9/9 [==============================] - 2s 284ms/step - loss: 0.0245 - accuracy: 0.9283 - val_loss: 0.3666 - val_accuracy: 0.9307\n",
            "Epoch 13/30\n",
            "9/9 [==============================] - ETA: 0s - loss: 0.0170 - accuracy: 0.9334\n",
            "Epoch 13: val_accuracy improved from 0.93067 to 0.93523, saving model to transformer/weights.h5\n",
            "9/9 [==============================] - 3s 306ms/step - loss: 0.0170 - accuracy: 0.9334 - val_loss: 0.3538 - val_accuracy: 0.9352\n",
            "Epoch 14/30\n",
            "9/9 [==============================] - ETA: 0s - loss: 0.0143 - accuracy: 0.9376\n",
            "Epoch 14: val_accuracy improved from 0.93523 to 0.93929, saving model to transformer/weights.h5\n",
            "9/9 [==============================] - 3s 366ms/step - loss: 0.0143 - accuracy: 0.9376 - val_loss: 0.3041 - val_accuracy: 0.9393\n",
            "Epoch 15/30\n",
            "9/9 [==============================] - ETA: 0s - loss: 0.0097 - accuracy: 0.9413\n",
            "Epoch 15: val_accuracy improved from 0.93929 to 0.94280, saving model to transformer/weights.h5\n",
            "9/9 [==============================] - 2s 248ms/step - loss: 0.0097 - accuracy: 0.9413 - val_loss: 0.2663 - val_accuracy: 0.9428\n",
            "Epoch 16/30\n",
            "9/9 [==============================] - ETA: 0s - loss: 0.0047 - accuracy: 0.9446\n",
            "Epoch 16: val_accuracy improved from 0.94280 to 0.94600, saving model to transformer/weights.h5\n",
            "9/9 [==============================] - 2s 249ms/step - loss: 0.0047 - accuracy: 0.9446 - val_loss: 0.2468 - val_accuracy: 0.9460\n",
            "Epoch 17/30\n",
            "9/9 [==============================] - ETA: 0s - loss: 0.0049 - accuracy: 0.9476\n",
            "Epoch 17: val_accuracy improved from 0.94600 to 0.94882, saving model to transformer/weights.h5\n",
            "9/9 [==============================] - 2s 248ms/step - loss: 0.0049 - accuracy: 0.9476 - val_loss: 0.2730 - val_accuracy: 0.9488\n",
            "Epoch 18/30\n",
            "9/9 [==============================] - ETA: 0s - loss: 0.0051 - accuracy: 0.9503\n",
            "Epoch 18: val_accuracy improved from 0.94882 to 0.95144, saving model to transformer/weights.h5\n",
            "9/9 [==============================] - 2s 246ms/step - loss: 0.0051 - accuracy: 0.9503 - val_loss: 0.2505 - val_accuracy: 0.9514\n",
            "Epoch 19/30\n",
            "9/9 [==============================] - ETA: 0s - loss: 0.0034 - accuracy: 0.9527\n",
            "Epoch 19: val_accuracy improved from 0.95144 to 0.95368, saving model to transformer/weights.h5\n",
            "9/9 [==============================] - 2s 240ms/step - loss: 0.0034 - accuracy: 0.9527 - val_loss: 0.2630 - val_accuracy: 0.9537\n",
            "Epoch 20/30\n",
            "9/9 [==============================] - ETA: 0s - loss: 0.0029 - accuracy: 0.9549\n",
            "Epoch 20: val_accuracy improved from 0.95368 to 0.95570, saving model to transformer/weights.h5\n",
            "9/9 [==============================] - 2s 248ms/step - loss: 0.0029 - accuracy: 0.9549 - val_loss: 0.2675 - val_accuracy: 0.9557\n",
            "Epoch 21/30\n",
            "9/9 [==============================] - ETA: 0s - loss: 0.0022 - accuracy: 0.9568\n",
            "Epoch 21: val_accuracy improved from 0.95570 to 0.95752, saving model to transformer/weights.h5\n",
            "9/9 [==============================] - 2s 242ms/step - loss: 0.0022 - accuracy: 0.9568 - val_loss: 0.2700 - val_accuracy: 0.9575\n",
            "Epoch 22/30\n",
            "9/9 [==============================] - ETA: 0s - loss: 0.0024 - accuracy: 0.9585\n",
            "Epoch 22: val_accuracy improved from 0.95752 to 0.95918, saving model to transformer/weights.h5\n",
            "9/9 [==============================] - 2s 249ms/step - loss: 0.0024 - accuracy: 0.9585 - val_loss: 0.2606 - val_accuracy: 0.9592\n",
            "Epoch 23/30\n",
            "9/9 [==============================] - ETA: 0s - loss: 0.0018 - accuracy: 0.9601\n",
            "Epoch 23: val_accuracy improved from 0.95918 to 0.96070, saving model to transformer/weights.h5\n",
            "9/9 [==============================] - 2s 235ms/step - loss: 0.0018 - accuracy: 0.9601 - val_loss: 0.2661 - val_accuracy: 0.9607\n",
            "Epoch 24/30\n",
            "9/9 [==============================] - ETA: 0s - loss: 0.0021 - accuracy: 0.9615\n",
            "Epoch 24: val_accuracy improved from 0.96070 to 0.96208, saving model to transformer/weights.h5\n",
            "9/9 [==============================] - 2s 236ms/step - loss: 0.0021 - accuracy: 0.9615 - val_loss: 0.2688 - val_accuracy: 0.9621\n",
            "Epoch 25/30\n",
            "9/9 [==============================] - ETA: 0s - loss: 0.0021 - accuracy: 0.9629\n",
            "Epoch 25: val_accuracy improved from 0.96208 to 0.96336, saving model to transformer/weights.h5\n",
            "9/9 [==============================] - 2s 249ms/step - loss: 0.0021 - accuracy: 0.9629 - val_loss: 0.2612 - val_accuracy: 0.9634\n",
            "Epoch 26/30\n",
            "9/9 [==============================] - ETA: 0s - loss: 0.0014 - accuracy: 0.9641\n",
            "Epoch 26: val_accuracy improved from 0.96336 to 0.96462, saving model to transformer/weights.h5\n",
            "9/9 [==============================] - 2s 237ms/step - loss: 0.0014 - accuracy: 0.9641 - val_loss: 0.2559 - val_accuracy: 0.9646\n",
            "Epoch 27/30\n",
            "9/9 [==============================] - ETA: 0s - loss: 0.0016 - accuracy: 0.9653\n",
            "Epoch 27: val_accuracy improved from 0.96462 to 0.96578, saving model to transformer/weights.h5\n",
            "9/9 [==============================] - 2s 240ms/step - loss: 0.0016 - accuracy: 0.9653 - val_loss: 0.2634 - val_accuracy: 0.9658\n",
            "Epoch 28/30\n",
            "9/9 [==============================] - ETA: 0s - loss: 0.0012 - accuracy: 0.9664\n",
            "Epoch 28: val_accuracy improved from 0.96578 to 0.96686, saving model to transformer/weights.h5\n",
            "9/9 [==============================] - 2s 242ms/step - loss: 0.0012 - accuracy: 0.9664 - val_loss: 0.2712 - val_accuracy: 0.9669\n",
            "Epoch 29/30\n",
            "9/9 [==============================] - ETA: 0s - loss: 0.0011 - accuracy: 0.9674\n",
            "Epoch 29: val_accuracy improved from 0.96686 to 0.96786, saving model to transformer/weights.h5\n",
            "9/9 [==============================] - 2s 235ms/step - loss: 0.0011 - accuracy: 0.9674 - val_loss: 0.2695 - val_accuracy: 0.9679\n",
            "Epoch 30/30\n",
            "9/9 [==============================] - ETA: 0s - loss: 0.0011 - accuracy: 0.9684\n",
            "Epoch 30: val_accuracy improved from 0.96786 to 0.96880, saving model to transformer/weights.h5\n",
            "9/9 [==============================] - 2s 243ms/step - loss: 0.0011 - accuracy: 0.9684 - val_loss: 0.2663 - val_accuracy: 0.9688\n"
          ]
        }
      ]
    },
    {
      "cell_type": "code",
      "source": [
        "plot_graphs(history, 'accuracy')"
      ],
      "metadata": {
        "colab": {
          "base_uri": "https://localhost:8080/",
          "height": 279
        },
        "id": "1Xpkm2jJRLj2",
        "outputId": "a5948d89-84c7-44f0-cb25-aaca5b8e4919"
      },
      "execution_count": null,
      "outputs": [
        {
          "output_type": "display_data",
          "data": {
            "text/plain": [
              "<Figure size 432x288 with 1 Axes>"
            ],
            "image/png": "[encoded data removed]"
          },
          "metadata": {
            "needs_background": "light"
          }
        }
      ]
    },
    {
      "cell_type": "code",
      "source": [
        "plot_graphs(history, 'loss')"
      ],
      "metadata": {
        "colab": {
          "base_uri": "https://localhost:8080/",
          "height": 279
        },
        "id": "wVdH3rcoRPZq",
        "outputId": "556740c0-b136-4da5-e9f1-f63451a40349"
      },
      "execution_count": null,
      "outputs": [
        {
          "output_type": "display_data",
          "data": {
            "text/plain": [
              "<Figure size 432x288 with 1 Axes>"
            ],
            "image/png": "[encoded data removed]"
          },
          "metadata": {
            "needs_background": "light"
          }
        }
      ]
    },
    {
      "cell_type": "code",
      "source": [
        "DATA_OUT_PATH = ''\n",
        "SAVE_FILE_NM = 'weights.h5'\n",
        "\n",
        "model.load_weights(os.path.join(DATA_OUT_PATH, model_name, SAVE_FILE_NM))"
      ],
      "metadata": {
        "id": "QWMN1N5WRSq2"
      },
      "execution_count": null,
      "outputs": []
    },
    {
      "cell_type": "code",
      "source": [
        "char2idx = prepro_configs['char2idx']\n",
        "idx2char = prepro_configs['idx2char']\n",
        "text = \"남자친구 승진 선물로 뭐가 좋을까?\"\n",
        "test_index_inputs, _ = enc_processing([text], char2idx)\n",
        "outputs = model.inference(test_index_inputs)\n",
        "\n",
        "print(' '.join([idx2char[str(o)] for o in outputs]))"
      ],
      "metadata": {
        "colab": {
          "base_uri": "https://localhost:8080/"
        },
        "id": "oIjBThvRRYQs",
        "outputId": "0e899720-c169-40f7-b535-e897e800e260"
      },
      "execution_count": null,
      "outputs": [
        {
          "output_type": "stream",
          "name": "stdout",
          "text": [
            "평소에 필요했던 게 좋을 것 같아요\n"
          ]
        }
      ]
    }
  ],
  "metadata": {
    "kernelspec": {
      "display_name": "Python 3",
      "language": "python",
      "name": "python3"
    },
    "language_info": {
      "codemirror_mode": {
        "name": "ipython",
        "version": 3
      },
      "file_extension": ".py",
      "mimetype": "text/x-python",
      "name": "python",
      "nbconvert_exporter": "python",
      "pygments_lexer": "ipython3",
      "version": "3.7.6"
    },
    "colab": {
      "provenance": [],
      "include_colab_link": true
    }
  },
  "nbformat": 4,
  "nbformat_minor": 0
}